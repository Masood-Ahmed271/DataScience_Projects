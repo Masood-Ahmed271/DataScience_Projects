{
  "nbformat": 4,
  "nbformat_minor": 0,
  "metadata": {
    "colab": {
      "name": "Copy of ONE.ipynb",
      "provenance": [],
      "collapsed_sections": []
    },
    "kernelspec": {
      "name": "python3",
      "display_name": "Python 3"
    },
    "language_info": {
      "name": "python"
    }
  },
  "cells": [
    {
      "cell_type": "markdown",
      "metadata": {
        "id": "25u7utuHhX-u"
      },
      "source": [
        "\n",
        "*Name: Masood Ahmed*\n"
      ]
    },
    {
      "cell_type": "markdown",
      "metadata": {
        "id": "k0P9NNEIhl9J"
      },
      "source": [
        "## Data Cleaning\n",
        "\n",
        "*Using the csv file “tranrecords.csv”*"
      ]
    },
    {
      "cell_type": "markdown",
      "metadata": {
        "id": "7D0ZK4W6iBWu"
      },
      "source": [
        "#### Part i)\n",
        "\n",
        "Reading the file and removing all the records with missing values (i.e. the ‘:’ data). "
      ]
    },
    {
      "cell_type": "code",
      "metadata": {
        "id": "J_EKPwxZJqwl"
      },
      "source": [
        "import pandas as pd"
      ],
      "execution_count": null,
      "outputs": []
    },
    {
      "cell_type": "code",
      "metadata": {
        "colab": {
          "base_uri": "https://localhost:8080/"
        },
        "id": "FYU2erzZKn3b",
        "outputId": "8e8a66be-a7c3-4cc0-fcb7-4a3da431d34d"
      },
      "source": [
        "\n",
        "df = pd.read_csv(\"tranrecords.csv\", na_values= \":\")  # The file was uploaded to the google collab\n",
        "df.dropna(inplace = True)\n",
        "print(df)\n"
      ],
      "execution_count": null,
      "outputs": [
        {
          "output_type": "stream",
          "name": "stdout",
          "text": [
            "          Amount   TranNo             Status  ... Fiscal Year  Month RedFlag\n",
            "1      23.766867  C232157    Paid_Reconciled  ...      2016.0    Apr       0\n",
            "3       6.806627  A848618    Paid_Reconciled  ...      2011.0    Jul       0\n",
            "4      13.016514  A791142    Paid_Reconciled  ...      2014.0    Apr       0\n",
            "5      12.931415  E713318  Paid_UnReconciled  ...      2016.0    Sep       0\n",
            "6     163.925706  C551764    Paid_Reconciled  ...      2014.0    Jul       1\n",
            "...          ...      ...                ...  ...         ...    ...     ...\n",
            "2494   15.292627  C793491    Paid_Reconciled  ...      2015.0    Jan       0\n",
            "2495   13.818340  C185056  Paid_UnReconciled  ...      2018.0    May       0\n",
            "2496    0.784873  E607977    Paid_Reconciled  ...      2015.0    Jan       0\n",
            "2497  702.747887  C305401    Paid_Reconciled  ...      2017.0    Dec       1\n",
            "2498   34.935621  E493170    Paid_Reconciled  ...      2014.0    May       0\n",
            "\n",
            "[2203 rows x 7 columns]\n"
          ]
        }
      ]
    },
    {
      "cell_type": "markdown",
      "metadata": {
        "id": "VClXnhiLipm3"
      },
      "source": [
        "#### Part ii): \n",
        "Displaying the general information of the data in (i) by using describe(). Display the distinct ‘Fiscal Year’."
      ]
    },
    {
      "cell_type": "code",
      "metadata": {
        "colab": {
          "base_uri": "https://localhost:8080/"
        },
        "id": "lyWPejukM2ly",
        "outputId": "714f671a-dc7d-4b51-c26e-b2caf9bae34e"
      },
      "source": [
        "\n",
        "# This cell just solves describe() portion of the question\n",
        "print(df.describe())"
      ],
      "execution_count": null,
      "outputs": [
        {
          "output_type": "stream",
          "name": "stdout",
          "text": [
            "             Amount  Fiscal Year      RedFlag\n",
            "count   2203.000000  2203.000000  2203.000000\n",
            "mean      42.666048  2014.590104     0.147526\n",
            "std      327.875723     2.901099     0.354710\n",
            "min        0.011837  2010.000000     0.000000\n",
            "25%        1.284378  2012.000000     0.000000\n",
            "50%        4.941389  2015.000000     0.000000\n",
            "75%       18.484277  2017.000000     0.000000\n",
            "max    13108.315775  2019.000000     1.000000\n"
          ]
        }
      ]
    },
    {
      "cell_type": "code",
      "metadata": {
        "colab": {
          "base_uri": "https://localhost:8080/"
        },
        "id": "6TKsTM1mN2u3",
        "outputId": "240a3630-adcd-430e-a340-15e03845c27b"
      },
      "source": [
        "print(df[[\"Fiscal Year\"]].unique())"
      ],
      "execution_count": null,
      "outputs": [
        {
          "output_type": "stream",
          "name": "stdout",
          "text": [
            "      Fiscal Year\n",
            "1          2016.0\n",
            "3          2011.0\n",
            "4          2014.0\n",
            "5          2016.0\n",
            "6          2014.0\n",
            "...           ...\n",
            "2494       2015.0\n",
            "2495       2018.0\n",
            "2496       2015.0\n",
            "2497       2017.0\n",
            "2498       2014.0\n",
            "\n",
            "[2203 rows x 1 columns]\n"
          ]
        }
      ]
    },
    {
      "cell_type": "code",
      "metadata": {
        "colab": {
          "base_uri": "https://localhost:8080/"
        },
        "id": "-yeCRC7GNtEk",
        "outputId": "76cbbb86-dd0b-40e0-bc74-059979d46475"
      },
      "source": [
        "\n",
        "# For my statistical evaluation and analyzing\n",
        "print(df.describe()[[\"Fiscal Year\"]])"
      ],
      "execution_count": null,
      "outputs": [
        {
          "output_type": "stream",
          "name": "stdout",
          "text": [
            "       Fiscal Year\n",
            "count  2203.000000\n",
            "mean   2014.590104\n",
            "std       2.901099\n",
            "min    2010.000000\n",
            "25%    2012.000000\n",
            "50%    2015.000000\n",
            "75%    2017.000000\n",
            "max    2019.000000\n"
          ]
        }
      ]
    },
    {
      "cell_type": "markdown",
      "metadata": {
        "id": "o3UVG-9pkGo0"
      },
      "source": [
        "#### Part iii) \n",
        "Displaying the “Amount” and ‘Fiscal Year’. Sorting the data according to the ‘Fiscal Year’ and then by the ‘Amount’ in descending order."
      ]
    },
    {
      "cell_type": "code",
      "metadata": {
        "colab": {
          "base_uri": "https://localhost:8080/"
        },
        "id": "VbxCFdz3N85W",
        "outputId": "f2c3491b-93e3-4927-b331-cad02dd48042"
      },
      "source": [
        "# Displaying the Amount and Fiscal Year as required\n",
        "\n",
        "print(df[[\"Amount\", \"Fiscal Year\"]])"
      ],
      "execution_count": null,
      "outputs": [
        {
          "output_type": "stream",
          "name": "stdout",
          "text": [
            "          Amount  Fiscal Year\n",
            "1      23.766867       2016.0\n",
            "3       6.806627       2011.0\n",
            "4      13.016514       2014.0\n",
            "5      12.931415       2016.0\n",
            "6     163.925706       2014.0\n",
            "...          ...          ...\n",
            "2494   15.292627       2015.0\n",
            "2495   13.818340       2018.0\n",
            "2496    0.784873       2015.0\n",
            "2497  702.747887       2017.0\n",
            "2498   34.935621       2014.0\n",
            "\n",
            "[2203 rows x 2 columns]\n"
          ]
        }
      ]
    },
    {
      "cell_type": "code",
      "metadata": {
        "colab": {
          "base_uri": "https://localhost:8080/"
        },
        "id": "XtZGfnYZO0ny",
        "outputId": "8a09d39e-54f0-422d-aca0-86786f839d17"
      },
      "source": [
        "# Sorting\n",
        "\n",
        "print(df.sort_values(by = [\"Fiscal Year\", \"Amount\"], ascending = [False, False]))"
      ],
      "execution_count": null,
      "outputs": [
        {
          "output_type": "stream",
          "name": "stdout",
          "text": [
            "           Amount   TranNo             Status  ... Fiscal Year  Month RedFlag\n",
            "787   1856.967789  E351860  Paid_UnReconciled  ...      2019.0    Nov       1\n",
            "2167   777.656566  C534965  Paid_UnReconciled  ...      2019.0    Sep       1\n",
            "488    559.020638  E748928    Paid_Reconciled  ...      2019.0    Jan       1\n",
            "208    310.211881  C307562  Paid_UnReconciled  ...      2019.0    Aug       1\n",
            "1923   297.418962  C427376    Paid_Reconciled  ...      2019.0    Jan       1\n",
            "...           ...      ...                ...  ...         ...    ...     ...\n",
            "2093     0.052610  C136656    Paid_Reconciled  ...      2010.0    Sep       0\n",
            "1154     0.035088  E572469    Paid_Reconciled  ...      2010.0    May       0\n",
            "2309     0.034192  E889224  Paid_UnReconciled  ...      2010.0    May       0\n",
            "521      0.026209  C359454    Paid_Reconciled  ...      2010.0    Sep       0\n",
            "1863     0.024159  C605158    Paid_Reconciled  ...      2010.0    Jan       0\n",
            "\n",
            "[2203 rows x 7 columns]\n"
          ]
        }
      ]
    },
    {
      "cell_type": "code",
      "metadata": {
        "id": "_z8QiORqmo8X"
      },
      "source": [
        "# resetting the index\n",
        "reseted_index = df.reset_index(drop=True)"
      ],
      "execution_count": null,
      "outputs": []
    },
    {
      "cell_type": "markdown",
      "metadata": {
        "id": "SdDDh5EqloII"
      },
      "source": [
        "#### Part iv)\n",
        "Printing the ‘Fiscal Year’ and the corresponding sum of ‘Amount’ according to the ‘Fiscal Year’"
      ]
    },
    {
      "cell_type": "code",
      "metadata": {
        "colab": {
          "base_uri": "https://localhost:8080/"
        },
        "id": "DccAxyuFnkdg",
        "outputId": "70814fac-c4d8-41c0-f485-b9e7ed6824bb"
      },
      "source": [
        "# Currently using the dataframe with named df\n",
        "df.groupby(['Fiscal Year'])['Amount'].sum()"
      ],
      "execution_count": null,
      "outputs": [
        {
          "output_type": "execute_result",
          "data": {
            "text/plain": [
              "Fiscal Year\n",
              "2010.0     9387.036121\n",
              "2011.0     7890.636436\n",
              "2012.0     4558.401678\n",
              "2013.0     8917.276252\n",
              "2014.0     6681.108123\n",
              "2015.0     5449.064568\n",
              "2016.0    11705.315123\n",
              "2017.0     9842.701931\n",
              "2018.0    20492.965550\n",
              "2019.0     9068.798801\n",
              "Name: Amount, dtype: float64"
            ]
          },
          "metadata": {},
          "execution_count": 9
        }
      ]
    },
    {
      "cell_type": "markdown",
      "metadata": {
        "id": "Luaw3cmul6my"
      },
      "source": [
        "#### Part v)\n",
        "Based on the ‘Amount’, removing the outliers by IRQ technique. "
      ]
    },
    {
      "cell_type": "code",
      "metadata": {
        "colab": {
          "base_uri": "https://localhost:8080/"
        },
        "id": "0qE0yfRzn-Ij",
        "outputId": "714cc798-49b9-4c38-feb6-cee3db78a303"
      },
      "source": [
        "\n",
        "# Lower Quartile of Amount\n",
        "Q1 = reseted_index.quantile(0.25)[\"Amount\"]\n",
        "Q1"
      ],
      "execution_count": null,
      "outputs": [
        {
          "output_type": "execute_result",
          "data": {
            "text/plain": [
              "1.284378378667883"
            ]
          },
          "metadata": {},
          "execution_count": 10
        }
      ]
    },
    {
      "cell_type": "code",
      "metadata": {
        "colab": {
          "base_uri": "https://localhost:8080/"
        },
        "id": "KqgZ3L1gprjd",
        "outputId": "b206cc79-e257-41e4-bc58-71024d7b1ea6"
      },
      "source": [
        "# Upper Quantile Amount\n",
        "Q2 = reseted_index.quantile(0.75)[\"Amount\"]\n",
        "Q2"
      ],
      "execution_count": null,
      "outputs": [
        {
          "output_type": "execute_result",
          "data": {
            "text/plain": [
              "18.484277166059336"
            ]
          },
          "metadata": {},
          "execution_count": 11
        }
      ]
    },
    {
      "cell_type": "code",
      "metadata": {
        "colab": {
          "base_uri": "https://localhost:8080/"
        },
        "id": "cryTBwgorrFb",
        "outputId": "c4d36dc4-754c-4c10-afe8-a94c65741c3a"
      },
      "source": [
        "IQR = Q2 - Q1\n",
        "IQR"
      ],
      "execution_count": null,
      "outputs": [
        {
          "output_type": "execute_result",
          "data": {
            "text/plain": [
              "17.199898787391454"
            ]
          },
          "metadata": {},
          "execution_count": 12
        }
      ]
    },
    {
      "cell_type": "code",
      "metadata": {
        "colab": {
          "base_uri": "https://localhost:8080/",
          "height": 424
        },
        "id": "Utx9C3pAsDN0",
        "outputId": "c8dc9169-206e-4870-f85b-ed319dbd9069"
      },
      "source": [
        "outlierRemoved = reseted_index[~((reseted_index['Amount'] < (Q1 - 1.5* IQR) ) | (reseted_index['Amount'] > (Q2 + 1.5* IQR) )) ]\n",
        "outlierRemoved"
      ],
      "execution_count": null,
      "outputs": [
        {
          "output_type": "execute_result",
          "data": {
            "text/html": [
              "<div>\n",
              "<style scoped>\n",
              "    .dataframe tbody tr th:only-of-type {\n",
              "        vertical-align: middle;\n",
              "    }\n",
              "\n",
              "    .dataframe tbody tr th {\n",
              "        vertical-align: top;\n",
              "    }\n",
              "\n",
              "    .dataframe thead th {\n",
              "        text-align: right;\n",
              "    }\n",
              "</style>\n",
              "<table border=\"1\" class=\"dataframe\">\n",
              "  <thead>\n",
              "    <tr style=\"text-align: right;\">\n",
              "      <th></th>\n",
              "      <th>Amount</th>\n",
              "      <th>TranNo</th>\n",
              "      <th>Status</th>\n",
              "      <th>Department</th>\n",
              "      <th>Fiscal Year</th>\n",
              "      <th>Month</th>\n",
              "      <th>RedFlag</th>\n",
              "    </tr>\n",
              "  </thead>\n",
              "  <tbody>\n",
              "    <tr>\n",
              "      <th>0</th>\n",
              "      <td>23.766867</td>\n",
              "      <td>C232157</td>\n",
              "      <td>Paid_Reconciled</td>\n",
              "      <td>Purchasing</td>\n",
              "      <td>2016.0</td>\n",
              "      <td>Apr</td>\n",
              "      <td>0</td>\n",
              "    </tr>\n",
              "    <tr>\n",
              "      <th>1</th>\n",
              "      <td>6.806627</td>\n",
              "      <td>A848618</td>\n",
              "      <td>Paid_Reconciled</td>\n",
              "      <td>Production</td>\n",
              "      <td>2011.0</td>\n",
              "      <td>Jul</td>\n",
              "      <td>0</td>\n",
              "    </tr>\n",
              "    <tr>\n",
              "      <th>2</th>\n",
              "      <td>13.016514</td>\n",
              "      <td>A791142</td>\n",
              "      <td>Paid_Reconciled</td>\n",
              "      <td>R&amp;D</td>\n",
              "      <td>2014.0</td>\n",
              "      <td>Apr</td>\n",
              "      <td>0</td>\n",
              "    </tr>\n",
              "    <tr>\n",
              "      <th>3</th>\n",
              "      <td>12.931415</td>\n",
              "      <td>E713318</td>\n",
              "      <td>Paid_UnReconciled</td>\n",
              "      <td>Finance</td>\n",
              "      <td>2016.0</td>\n",
              "      <td>Sep</td>\n",
              "      <td>0</td>\n",
              "    </tr>\n",
              "    <tr>\n",
              "      <th>5</th>\n",
              "      <td>3.655282</td>\n",
              "      <td>E664358</td>\n",
              "      <td>Paid_Reconciled</td>\n",
              "      <td>R&amp;D</td>\n",
              "      <td>2016.0</td>\n",
              "      <td>Sep</td>\n",
              "      <td>0</td>\n",
              "    </tr>\n",
              "    <tr>\n",
              "      <th>...</th>\n",
              "      <td>...</td>\n",
              "      <td>...</td>\n",
              "      <td>...</td>\n",
              "      <td>...</td>\n",
              "      <td>...</td>\n",
              "      <td>...</td>\n",
              "      <td>...</td>\n",
              "    </tr>\n",
              "    <tr>\n",
              "      <th>2197</th>\n",
              "      <td>0.977832</td>\n",
              "      <td>C065475</td>\n",
              "      <td>Paid_UnReconciled</td>\n",
              "      <td>Marketing</td>\n",
              "      <td>2013.0</td>\n",
              "      <td>Feb</td>\n",
              "      <td>0</td>\n",
              "    </tr>\n",
              "    <tr>\n",
              "      <th>2198</th>\n",
              "      <td>15.292627</td>\n",
              "      <td>C793491</td>\n",
              "      <td>Paid_Reconciled</td>\n",
              "      <td>Finance</td>\n",
              "      <td>2015.0</td>\n",
              "      <td>Jan</td>\n",
              "      <td>0</td>\n",
              "    </tr>\n",
              "    <tr>\n",
              "      <th>2199</th>\n",
              "      <td>13.818340</td>\n",
              "      <td>C185056</td>\n",
              "      <td>Paid_UnReconciled</td>\n",
              "      <td>Purchasing</td>\n",
              "      <td>2018.0</td>\n",
              "      <td>May</td>\n",
              "      <td>0</td>\n",
              "    </tr>\n",
              "    <tr>\n",
              "      <th>2200</th>\n",
              "      <td>0.784873</td>\n",
              "      <td>E607977</td>\n",
              "      <td>Paid_Reconciled</td>\n",
              "      <td>Purchasing</td>\n",
              "      <td>2015.0</td>\n",
              "      <td>Jan</td>\n",
              "      <td>0</td>\n",
              "    </tr>\n",
              "    <tr>\n",
              "      <th>2202</th>\n",
              "      <td>34.935621</td>\n",
              "      <td>E493170</td>\n",
              "      <td>Paid_Reconciled</td>\n",
              "      <td>Marketing</td>\n",
              "      <td>2014.0</td>\n",
              "      <td>May</td>\n",
              "      <td>0</td>\n",
              "    </tr>\n",
              "  </tbody>\n",
              "</table>\n",
              "<p>1898 rows × 7 columns</p>\n",
              "</div>"
            ],
            "text/plain": [
              "         Amount   TranNo             Status  ... Fiscal Year  Month RedFlag\n",
              "0     23.766867  C232157    Paid_Reconciled  ...      2016.0    Apr       0\n",
              "1      6.806627  A848618    Paid_Reconciled  ...      2011.0    Jul       0\n",
              "2     13.016514  A791142    Paid_Reconciled  ...      2014.0    Apr       0\n",
              "3     12.931415  E713318  Paid_UnReconciled  ...      2016.0    Sep       0\n",
              "5      3.655282  E664358    Paid_Reconciled  ...      2016.0    Sep       0\n",
              "...         ...      ...                ...  ...         ...    ...     ...\n",
              "2197   0.977832  C065475  Paid_UnReconciled  ...      2013.0    Feb       0\n",
              "2198  15.292627  C793491    Paid_Reconciled  ...      2015.0    Jan       0\n",
              "2199  13.818340  C185056  Paid_UnReconciled  ...      2018.0    May       0\n",
              "2200   0.784873  E607977    Paid_Reconciled  ...      2015.0    Jan       0\n",
              "2202  34.935621  E493170    Paid_Reconciled  ...      2014.0    May       0\n",
              "\n",
              "[1898 rows x 7 columns]"
            ]
          },
          "metadata": {},
          "execution_count": 13
        }
      ]
    },
    {
      "cell_type": "code",
      "metadata": {
        "colab": {
          "base_uri": "https://localhost:8080/",
          "height": 424
        },
        "id": "l76YUTswtSgC",
        "outputId": "85e9bb00-ddc3-43b5-b00b-761cec3d53a0"
      },
      "source": [
        "# sorting out the data as well so that it looks presentable\n",
        "outlierRemoved.sort_values(by = ['Amount'])"
      ],
      "execution_count": null,
      "outputs": [
        {
          "output_type": "execute_result",
          "data": {
            "text/html": [
              "<div>\n",
              "<style scoped>\n",
              "    .dataframe tbody tr th:only-of-type {\n",
              "        vertical-align: middle;\n",
              "    }\n",
              "\n",
              "    .dataframe tbody tr th {\n",
              "        vertical-align: top;\n",
              "    }\n",
              "\n",
              "    .dataframe thead th {\n",
              "        text-align: right;\n",
              "    }\n",
              "</style>\n",
              "<table border=\"1\" class=\"dataframe\">\n",
              "  <thead>\n",
              "    <tr style=\"text-align: right;\">\n",
              "      <th></th>\n",
              "      <th>Amount</th>\n",
              "      <th>TranNo</th>\n",
              "      <th>Status</th>\n",
              "      <th>Department</th>\n",
              "      <th>Fiscal Year</th>\n",
              "      <th>Month</th>\n",
              "      <th>RedFlag</th>\n",
              "    </tr>\n",
              "  </thead>\n",
              "  <tbody>\n",
              "    <tr>\n",
              "      <th>600</th>\n",
              "      <td>0.011837</td>\n",
              "      <td>C977549</td>\n",
              "      <td>Paid_UnReconciled</td>\n",
              "      <td>Finance</td>\n",
              "      <td>2018.0</td>\n",
              "      <td>Apr</td>\n",
              "      <td>0</td>\n",
              "    </tr>\n",
              "    <tr>\n",
              "      <th>1397</th>\n",
              "      <td>0.013705</td>\n",
              "      <td>E892524</td>\n",
              "      <td>Paid_Reconciled</td>\n",
              "      <td>Purchasing</td>\n",
              "      <td>2019.0</td>\n",
              "      <td>Sep</td>\n",
              "      <td>0</td>\n",
              "    </tr>\n",
              "    <tr>\n",
              "      <th>1723</th>\n",
              "      <td>0.015280</td>\n",
              "      <td>C409936</td>\n",
              "      <td>Paid_Reconciled</td>\n",
              "      <td>Finance</td>\n",
              "      <td>2017.0</td>\n",
              "      <td>Nov</td>\n",
              "      <td>0</td>\n",
              "    </tr>\n",
              "    <tr>\n",
              "      <th>1851</th>\n",
              "      <td>0.015439</td>\n",
              "      <td>C899527</td>\n",
              "      <td>Paid_Reconciled</td>\n",
              "      <td>Finance</td>\n",
              "      <td>2015.0</td>\n",
              "      <td>Aug</td>\n",
              "      <td>0</td>\n",
              "    </tr>\n",
              "    <tr>\n",
              "      <th>770</th>\n",
              "      <td>0.018308</td>\n",
              "      <td>C368614</td>\n",
              "      <td>Paid_UnReconciled</td>\n",
              "      <td>Finance</td>\n",
              "      <td>2017.0</td>\n",
              "      <td>Feb</td>\n",
              "      <td>0</td>\n",
              "    </tr>\n",
              "    <tr>\n",
              "      <th>...</th>\n",
              "      <td>...</td>\n",
              "      <td>...</td>\n",
              "      <td>...</td>\n",
              "      <td>...</td>\n",
              "      <td>...</td>\n",
              "      <td>...</td>\n",
              "      <td>...</td>\n",
              "    </tr>\n",
              "    <tr>\n",
              "      <th>1530</th>\n",
              "      <td>42.506636</td>\n",
              "      <td>E298972</td>\n",
              "      <td>Paid_Reconciled</td>\n",
              "      <td>Finance</td>\n",
              "      <td>2015.0</td>\n",
              "      <td>Sep</td>\n",
              "      <td>0</td>\n",
              "    </tr>\n",
              "    <tr>\n",
              "      <th>1274</th>\n",
              "      <td>42.714931</td>\n",
              "      <td>C147076</td>\n",
              "      <td>Paid_UnReconciled</td>\n",
              "      <td>Marketing</td>\n",
              "      <td>2017.0</td>\n",
              "      <td>Apr</td>\n",
              "      <td>0</td>\n",
              "    </tr>\n",
              "    <tr>\n",
              "      <th>1661</th>\n",
              "      <td>42.779889</td>\n",
              "      <td>A711682</td>\n",
              "      <td>Paid_UnReconciled</td>\n",
              "      <td>Marketing</td>\n",
              "      <td>2011.0</td>\n",
              "      <td>Apr</td>\n",
              "      <td>0</td>\n",
              "    </tr>\n",
              "    <tr>\n",
              "      <th>1411</th>\n",
              "      <td>43.422107</td>\n",
              "      <td>C951832</td>\n",
              "      <td>Paid_Reconciled</td>\n",
              "      <td>Finance</td>\n",
              "      <td>2016.0</td>\n",
              "      <td>Jul</td>\n",
              "      <td>0</td>\n",
              "    </tr>\n",
              "    <tr>\n",
              "      <th>1380</th>\n",
              "      <td>43.729121</td>\n",
              "      <td>E060740</td>\n",
              "      <td>Paid_Reconciled</td>\n",
              "      <td>Marketing</td>\n",
              "      <td>2016.0</td>\n",
              "      <td>Apr</td>\n",
              "      <td>0</td>\n",
              "    </tr>\n",
              "  </tbody>\n",
              "</table>\n",
              "<p>1898 rows × 7 columns</p>\n",
              "</div>"
            ],
            "text/plain": [
              "         Amount   TranNo             Status  ... Fiscal Year  Month RedFlag\n",
              "600    0.011837  C977549  Paid_UnReconciled  ...      2018.0    Apr       0\n",
              "1397   0.013705  E892524    Paid_Reconciled  ...      2019.0    Sep       0\n",
              "1723   0.015280  C409936    Paid_Reconciled  ...      2017.0    Nov       0\n",
              "1851   0.015439  C899527    Paid_Reconciled  ...      2015.0    Aug       0\n",
              "770    0.018308  C368614  Paid_UnReconciled  ...      2017.0    Feb       0\n",
              "...         ...      ...                ...  ...         ...    ...     ...\n",
              "1530  42.506636  E298972    Paid_Reconciled  ...      2015.0    Sep       0\n",
              "1274  42.714931  C147076  Paid_UnReconciled  ...      2017.0    Apr       0\n",
              "1661  42.779889  A711682  Paid_UnReconciled  ...      2011.0    Apr       0\n",
              "1411  43.422107  C951832    Paid_Reconciled  ...      2016.0    Jul       0\n",
              "1380  43.729121  E060740    Paid_Reconciled  ...      2016.0    Apr       0\n",
              "\n",
              "[1898 rows x 7 columns]"
            ]
          },
          "metadata": {},
          "execution_count": 14
        }
      ]
    },
    {
      "cell_type": "code",
      "metadata": {
        "colab": {
          "base_uri": "https://localhost:8080/"
        },
        "id": "BmqOolaCtcVG",
        "outputId": "7938490f-5721-4bbd-8967-29cfad8989cb"
      },
      "source": [
        "# Only showing Amount column after removing outlier for further clarification\n",
        "outlierRemoved['Amount']"
      ],
      "execution_count": null,
      "outputs": [
        {
          "output_type": "execute_result",
          "data": {
            "text/plain": [
              "0       23.766867\n",
              "1        6.806627\n",
              "2       13.016514\n",
              "3       12.931415\n",
              "5        3.655282\n",
              "          ...    \n",
              "2197     0.977832\n",
              "2198    15.292627\n",
              "2199    13.818340\n",
              "2200     0.784873\n",
              "2202    34.935621\n",
              "Name: Amount, Length: 1898, dtype: float64"
            ]
          },
          "metadata": {},
          "execution_count": 15
        }
      ]
    },
    {
      "cell_type": "code",
      "metadata": {
        "id": "0IqPqw4WvbPZ"
      },
      "source": [
        "#********************************************************************************************************************************************************"
      ],
      "execution_count": null,
      "outputs": []
    },
    {
      "cell_type": "markdown",
      "metadata": {
        "id": "CuiQjOLjmmcR"
      },
      "source": [
        "#  Web data Scrapping\n",
        "\n",
        "*Visiting the webpage https://en.wikipedia.org/wiki/List_of_secondary_schools_in_Hong_Kong.*\n"
      ]
    },
    {
      "cell_type": "code",
      "metadata": {
        "id": "mRvfnoC4zH7D"
      },
      "source": [
        "# Importing Important libraries for the question\n",
        "import requests\n",
        "from bs4 import BeautifulSoup"
      ],
      "execution_count": null,
      "outputs": []
    },
    {
      "cell_type": "markdown",
      "metadata": {
        "id": "0q_6BN3unAqZ"
      },
      "source": [
        "#### Part i)\n",
        "\n",
        "Using BeautifulSoup to read school names in the webpage. "
      ]
    },
    {
      "cell_type": "code",
      "metadata": {
        "id": "uVSM73kazWcR",
        "colab": {
          "base_uri": "https://localhost:8080/"
        },
        "outputId": "3d329d13-d53e-4c47-b20e-2bbcb403f6ff"
      },
      "source": [
        "# reading school names\n",
        "\n",
        "html = requests.get(\"https://en.wikipedia.org/wiki/List_of_secondary_schools_in_Hong_Kong\").text\n",
        "soup = BeautifulSoup(html, 'lxml')\n",
        "alist = soup('h3', class_ = None)\n",
        "\n",
        "listOfAllUL = []\n",
        "listOfAllSchools = []\n",
        "\n",
        "allNames = []\n",
        "\n",
        "for j in alist:\n",
        "  listOfAllUL.append(j.find_next_sibling(\"ul\"))\n",
        "\n",
        "for i in listOfAllUL:\n",
        "  if i != None:\n",
        "    listOfAllSchools.append(i.find_all(\"li\"))\n",
        "\n",
        "for x in listOfAllSchools:\n",
        "  for tag in range(len(x)):\n",
        "    allNames.append(x[tag].text)\n",
        "\n",
        "# printing the names in the list for self-confirmation\n",
        "print(allNames)"
      ],
      "execution_count": null,
      "outputs": [
        {
          "output_type": "stream",
          "name": "stdout",
          "text": [
            "['Island School', 'Hong Kong Academy', \"King's College\", 'Lok Sin Tong Leung Kau Kui College', 'Sacred Heart Canossian College', \"St. Clare's Girls' School\", \"St. Joseph's College\", 'St. Louis School', \"St. Paul's Co-educational College\", \"St. Paul's College\", \"St. Stephen's Church College\", \"St. Stephen's Girls' College\", \"Ying Wa Girls' School\", 'Raimondi College', 'Belilios Public School', 'Canossa College', 'Caritas Chai Wan Marden Foundation Secondary School', 'Caritas Lok Yi School – special-needs school for intellectual disability', 'CCC Kwei Wah Shan College', 'Cheung Chuk Shan College', 'The Chinese Foundation Secondary School', 'Chinese International School', 'Chong Gene Hang College', 'Clementi Secondary School', 'CNEC Lau Wing Sang Secondary School', 'Cognitio College (Hong Kong)', 'Delia School of Canada', 'Fortress Hill Methodist Secondary School – providing skills opportunity curricula', 'Fukien Secondary School (Siu Sai Wan)', 'Henrietta Secondary School', 'HKCT Adult Education Centre (Shau Kei Wan Government Secondary School)', 'Hon Wah College', \"Hong Kong Chinese Women's Club College\", 'Hongkong Japanese School (Junior Secondary Section)', 'Islamic Kasim Tuet Memorial College', 'Kellett School', 'Kiangsu-Chekiang College, North Point', 'Lingnan Hang Yee Memorial Secondary School', 'Lingnan Secondary School', 'Man Kiu College', 'Methodist Church Hong Kong Wesley College', 'Munsang College (Hong Kong Island)', 'Po Leung Kuk Yu Lee Mo Fan Memorial School – special-needs school for intellectual disability', 'Precious Blood Secondary School', 'Pui Kiu Middle School', 'Rotary Club of Hong Kong Island West Hong Chi Morninghope School – special-needs school for intellectual disability', 'Salesian English School (Secondary)', 'Shau Kei Wan East Government Secondary School', 'Shau Kei Wan Government Secondary School', 'Sheng Kung Hui Li Fook Hing Secondary School', 'St. Joan of Arc Secondary School', \"St. Mark's School\", 'Buddhist Fat Ho Memorial College', 'Buddhist Wai Yan Memorial College', 'Caritas Chan Chun Ha Field Studies Centre', 'Caritas Charles Vath College', 'Cheung Chau Government Secondary School', 'Christian Zheng Sheng College', 'Discovery Bay International School', 'Discovery College – an English Schools Foundation private school', 'HKFEW Wong Cho Bau Secondary School', 'Ho Yu College and Primary School (Sponsored by Sik Sik Yuen)', 'Ling Liang Church E Wun Secondary School', 'Po Leung Kuk Mrs. Ma Kam Ming-Cheung Fook Sien College', 'Tung Chung Catholic School', 'YMCA of Hong Kong Christian College', 'American International School', 'Amoy College', 'Anantara College', 'Arts and Technology Education Centre', 'Australian International School Hong Kong', 'Bishop Hall Jubilee School', 'Carmel Secondary School', 'CCC Kei To Secondary School', 'Chan Sui Ki (La Salle) College', 'Christian Alliance P. C. Lau Memorial International School', \"Diocesan Boys' School\", \"Diocesan Girls' School\", 'Heep Yunn School', 'HKICC Lee Shau Kee School of Creativity', 'Hoi Ping Chamber of Commerce Secondary School', 'Holy Carpenter Secondary School', 'Holy Family Canossian College', 'Homantin Government Secondary School', 'Jockey Club Government Secondary School', 'Jockey Club Sarah Roe School – an English Schools Foundation school for special educational needs', 'King George V School – an English Schools Foundation school', 'Kingston International School', 'Kowloon Tong School|Kowloon Tong School (Secondary Section)', 'Kowloon True Light Middle School', 'La Salle College', 'Mary Rose School – special-needs school for intellectual disability', 'Maryknoll Convent School (Secondary Section)', 'Munsang College', 'New Asia Middle School', 'Notre Dame College', 'Pentecostal School', 'Po Leung Kuk Ngan Po Ling College', 'Pooi To Middle School', 'Pui Ching Middle School', 'Rhenish Church Pang Hok-ko Memorial College', \"Scientia Secondary School (formerly called Workers' Children Secondary School)\", 'Sear Rogers International School – Peninsula', 'Sheng Kung Hui Holy Trinity Church Secondary School', 'Sheng Kung Hui Tsoi Kung Po Secondary School', 'Shun Tak Fraternal Association Seaward Woo College', 'St. Teresa Secondary School', 'Tang King Po School, Kowloon', 'Tung Wah Group of Hospitals Wong Fut Nam College', 'Wa Ying College', 'Yew Chung International School – Secondary', 'Yu Chun Keung Memorial College', 'YWCA Hioe Tjo Yoeng College', 'Buddhist Sin Tak College', 'Buddhist Yip Kei Nam Memorial College', 'Caritas St. Joseph Secondary School', 'Carmel Alison Lam Foundation Secondary School', 'CCC Chuen Yuen College', 'CCC Yenching College', 'CNEC Christian College', 'CNEC Lee I Yao Memorial Secondary School', 'Cotton Spinners Association Secondary School', 'Daughters of Mary Help of Christians Siu Ming Catholic Secondary School', 'HKSYC & IA Chan Nam Chong Memorial College', 'HKSYC & IA Chan Nam Chong Memorial School – special-needs school for intellectual disability', 'Hong Chi Winifred Mary Cheung Morning School – special-needs school for intellectual disability', 'Hong Kong Taoist Association the Yuen Yuen Institute No.1 Secondary School', 'Ju Ching Chu Secondary School (Kwai Chung)', 'Kiangsu-Chekiang College (Kwai Chung)', 'Kwai Chung Methodist College', 'Lai King Catholic Secondary School', 'Lingnan Dr. Chung Wing Kwong Memorial Secondary School', 'Lions College', 'Lok Sin Tong Ku Chiu Man Secondary School', 'Lok Sin Tong Leung Chik Wai Memorial School', 'Lutheran School for the Deaf – special-needs school for hearing impairment', 'Methodist Lee Wai Lee College', 'Po Leung Kuk Lo Kit Sing (1983) College', 'Po Leung Kuk Mr. & Mrs. Chan Pak Keung Tsing Yi School – special-needs school for intellectual disability', 'Pope Paul VI College', \"Queen's College Old Boys' Association Secondary School\", \"Queen's College Old Boys' Association Tsing Yi Evening School\", 'Salesians of Don Bosco Ng Siu Mui Secondary School', 'Sam Shui Natives Association Lau Pun Cheung School – special-needs school for intellectual disability', 'Shek Lei Catholic Secondary School', 'Sheng Kung Hui Lam Woo Memorial Secondary School', 'Shun Tak Fraternal Association Lee Shau Kee College', 'Spastics Association of Hong Kong B. M. Kotewall Memorial School – special-needs school for physical disability', 'Tung Wah Group of Hospitals Chen Zao Men College', 'Tung Wah Group of Hospitals Mrs. Wu York Yu Memorial College', 'Tung Wah Group of Hospitals S. C. Gaw Memorial College', 'Buddhist Ho Nam Kam College', 'CCC Kei Chi Secondary School', 'CCC Kei Shun Special School – special-needs school for intellectual disability', 'CCC Mong Man Wai College', 'Delia Memorial Evening School (Kwun Tong)', 'Delia Memorial Matriculation Evening Course (Kwun Tong)', 'Delia Memorial School (Hip Wo)', 'Delia Memorial School (Matteo Ricci)', 'Delia Memorial School (Yuet Wah)', 'Evan China Fellowship Holy Word School – special-needs school for intellectual disability', 'ECF Saint Too Canaan College', 'FDBWA Szeto Ho Secondary School', 'Fukien Secondary School', 'HKWMA Chu Shek Lun Secondary School', 'Hong Kong Red Cross Princess Alexandra School – special-needs school for physical disability', 'Hong Kong Sheng Kung Hui Bishop Hall Secondary School', 'Hong Kong Taoist Association Ching Chung Secondary School', 'Ko Lui Secondary School', 'Kwun Tong Government Secondary School', 'Kwun Tong Kung Lok Government Secondary School', 'Kwun Tong Lutheran College', 'Kwun Tong Lutheran Evening School', 'Kwun Tong Maryknoll College', 'Leung Shek Chee College', 'Maryknoll Secondary School', 'Mission Covenant Church Holm Glad College', 'Mu Kuang English School', 'Ning Po College', 'Ning Po No.2 College', 'NLSI Lui Kwok Pat Fong College', 'Po Chiu Catholic Secondary School', 'Sheng Kung Hui Kei Hau Secondary School', 'Sheng Kung Hui Leung Kwai Yee Secondary School', 'Shun Lee Catholic Secondary School', 'Sing Yin Secondary School', \"Society of Boys' Centres Shing Tak Centre School – school for social development\", \"St. Antonius Girls' College\", \"St. Catharine's School for Girls\", \"St. Joseph's Anglo-Chinese School\", \"St. Paul's School (Lam Tin)\", 'United Christian College (Kowloon East)', 'Yan Chai Hospital Law Chan Chor Si College', 'Caritas Fanling Chan Chun Ha Secondary School', 'CCC Kei San Secondary School', 'Christian Alliance S. W. Chan Memorial College', 'De La Salle Secondary School, N.T.', 'Elegantia College (Sponsored by Education Convergence)', 'Fanling Government Secondary School', 'Fanling Kau Yan College', 'Fanling Lutheran Secondary School', 'Fanling Rhenish Church Secondary School', 'Fung Kai Liu Man Shek Tong Secondary School', 'Fung Kai No.1 Secondary School', 'HHCKLA Buddhist Ma Kam Chan Memorial English Secondary School', 'HHCKLA Buddhist Po Kwong School – special-needs school for intellectual disability', 'Hong Kong Taoist Association Tang Hin Memorial Secondary School', 'International College Hong Kong', 'Po Leung Kuk Ma Kam Ming College', 'Salvation Army Shek Wu School – special-needs school for intellectual disability', 'Sheng Kung Hui Chan Young Secondary School', 'Sheung Shui Government Secondary School', \"St. Francis of Assisi's College\", 'Tin Ka Ping Secondary School', \"Tung Wah Group of Hospitals Kap Yan Directors' College\", 'Tung Wah Group of Hospitals Li Ka Shing College', 'Carmel Divine Grace Foundation Secondary School', 'Catholic Ming Yuen Secondary School', 'Cheng Chek Chee Secondary School of Sai Kung and Hang Hau District, New Territories', 'Christian and Missionary Alliance Sun Kei Secondary School', 'Creative Secondary School', 'Evangel College', 'G. T. (Ellen Yeung) College', 'Haven of Hope Sunnyside School – special-needs school for intellectual disability', 'Heung To Secondary School (Tseung Kwan O)', 'HHCKLA Buddhist Ching Kok Secondary School', 'HKCCCU Logos Academy', 'Hong Chi Morninghill School, Tsui Lam – special-needs school for intellectual disability', 'Hong Kong Adventist Academy', 'Hong Kong and Macau Lutheran Church Queen Maud Secondary School', 'Hong Kong Taoist Association the Yuen Yuen Institute No.3 Secondary School', 'King Ling College', 'MKMCF Ma Chan Duen Hey Memorial College', 'MKMCF Ma Chan Duen Hey Memorial Evening College', 'Po Kok Secondary School', 'Po Leung Kuk Ho Yuk Ching (1984) College (was named Po Leung Kuk 1984 College)', 'Po Leung Kuk Laws Foundation College', 'Pok Oi Hospital 80th Anniversary Tang Ying Hei College', 'QualiEd College', 'Sai Kung Sung Tsun Catholic School', 'Shun Tak Fraternal Association Cheng Yu Tung Secondary School', 'Tseung Kwan O Government Secondary School', 'Tseung Kwan O Pui Chi School – special-needs school for intellectual disability', 'Tung Wah Group of Hospitals Lui Yun Choy Memorial College', 'Wellington Education Organization Chang Pui Chung Memorial School', 'Yan Chai Hospital Lan Chi Pat Memorial Secondary School', 'Yan Chai Hospital Wong Wha San Secondary School', 'Renaissance College – an English Schools Foundation private school', 'Baptist Lui Ming Choi Secondary School', 'Buddhist Kok Kwong Secondary School', 'Buddhist Wong Wan Tin College', 'Caritas Lok Jun School – special-needs school for intellectual disability', 'Caritas Ma On Shan Secondary School', 'Caritas Resurrection School – special-needs school for intellectual disability', 'Chinese YMCA College', 'Chiu Chow Association Secondary School', 'Choi Jun School – special-needs school for intellectual disability', 'Christ College', 'Christian Alliance Cheng Wing Gee College', 'CUHKFAA Chan Chun Ha Secondary School', 'GCC & ITKD Lau Pak Lok Secondary School', 'Helen Liang Memorial Secondary School (Shatin)', 'HKBUAS Wong Kam Fai Secondary and Primary School', 'HKCT Adult Education Centre (Sha Tin Government Secondary School)', 'Hong Kong and Kowloon CCPA Ma Chung Sum Secondary School', \"Hong Kong Chinese Women's Club Fung Yiu King Memorial Secondary School\", 'Immaculate Heart of Mary College', 'International Christian School', 'Jockey Club Ti–I College', 'Kiangsu-Chekiang College (Shatin)', 'Kwok Tak Seng Catholic Secondary School', 'Lam Tai Fai College', 'Li Po Chun United World College of Hong Kong', 'Lock Tao Secondary School', 'Lok Sin Tong Young Ko Hsiao Lin Secondary School', \"Ma On Shan St. Joseph's Secondary School\", 'Ma On Shan Tsung Tsin Secondary School', 'Ng Yuk Secondary School', 'Pentecostal Lam Hon Kwong School', 'Po Leung Kuk C. W. Chu College', 'Po Leung Kuk C. W. Chu Education Services Centre (Evening Section)', 'Po Leung Kuk Wu Chung College', 'Pok Oi Hospital Chan Kai Memorial College', 'Pui Kiu College', 'Sha Tin Government Secondary School', 'Sha Tin Methodist College', 'Shatin College – an English Schools Foundation school', 'Shatin Lutheran Evening School', 'Shatin Public School – special-needs school for intellectual disability', 'Shatin Pui Ying College', 'Shatin Tsung Tsin Secondary School', 'Sheng Kung Hui Lam Kau Mow Secondary School', 'Sheng Kung Hui Tsang Shiu Tim Secondary School', 'Spastics Association of Hong Kong Ko Fook Iu Memorial School – special-needs school for physical disability', \"St. Rose of Lima's College\", 'Stewards Pooi Kei College', 'Tak Sun Secondary School', 'Toi Shan Association College', 'Tsang Pik Shan Secondary School', 'Tung Wah Group of Hospitals Mrs. Fung Wong Fung Ting College', 'Tung Wah Group of Hospitals Wong Fung Ling College', 'Tung Wah Group of Hospitals Yow Kam Yuen College', 'Yan Chai Hospital Tung Chi Ying Memorial Secondary School', 'Buddhist Tai Hung College', 'Caritas Jockey Club Lok Yan School – special-needs school for intellectual disability', 'CCC Ming Yin College', 'Chan Shu Kui Memorial School', 'Cheung Sha Wan Catholic Secondary School', 'Chi Yun School – special-needs school for intellectual disability', 'China Holiness College', 'CMA Secondary School', 'Concordia International School', 'Concordia Lutheran Evening School', 'Concordia Lutheran School (Hong Kong)', 'Delia Memorial Matriculation Evening Course (Broadway)', 'Delia Memorial Matriculation Evening Course (Glee Path)', 'Delia Memorial School (Broadway)', 'Delia Memorial School (Glee Path)', 'Heung To Middle School', 'HKCT Adult Education Centre (Kowloon Technical School)', 'HKSYC & IA Wong Tai Shan Memorial College', 'Holy Trinity College', 'Kowloon Technical School', 'Maria College', 'Maria Evening College', \"Maryknoll Fathers' School\", 'Mental Health Association of Hong Kong - Cornwall School – special-needs school for intellectual disability', 'Nam Wah Catholic Secondary School', 'Our Lady of the Rosary College', 'Po Leung Kuk Choi Kai Yau School', 'Po Leung Kuk Vicwood K.T. Chong Sixth Form College', 'Po Leung Kuk Tong Nai Kan Junior Secondary College', 'Saviour Lutheran School – special-needs school for intellectual disability', \"Sheng Kung Hui St. Mary's Church Mok Hing Yiu College\", \"Society of Boys' Centres Chak Yan Centre School – school for social development\", \"Society of Boys' Centres Hui Chung Sing Memorial School – school for social development\", \"St. Margaret's Co-educational English Secondary and Primary School\", \"Tack Ching Girls' Secondary School\", 'Tak Nga Secondary School', 'Tsung Tsin Christian Academy', 'Tsung Tsin Middle School', 'Tung Wah Group of Hospitals Chang Ming Thien College', 'Tung Wah Group of Hospitals Kwan Fong Kai Chi School – special-needs school for intellectual disability', 'United Christian College', 'Wai Kiu College', 'Wai Kiu Evenign College', 'Ying Wa College', 'Aberdeen Baptist Lui Ming Choi College', 'Aberdeen Technical School', 'Canadian International School of Hong Kong', 'Caritas Chong Yuet Ming Secondary School', 'Caritas Wu Cheng-chung Secondary School', 'Ebenezer New Hope School]] – special-needs school for visual impairment', 'Ebenezer School – special-needs school for visual impairment', 'German Swiss International School', 'Hong Kong International School', 'Hong Kong Juvenile Care Centre Chan Nam Cheong Memorial School – school for social development', 'Hong Kong Red Cross John F. Kennedy Centre – special-needs school for physical disability', 'Hong Kong Sea School', 'Hong Kong True Light College', 'Hong Kong University Graduate Association College', 'Independent Schools Foundation Academy', 'Marycove School – school for social development', 'Po Leung Kuk Wai Yin College', 'Pui Tak Canossian College', 'Pui Ying Secondary School', 'Sacred Heart Canossian College', 'San Wui Commercial Society Chan Pak Sha School', 'Sheng Kung Hui Lui Ming Choi Secondary School', 'Singapore International School', 'South Island School – an International English Schools Foundation school', \"St. Peter's Secondary School\", \"St. Stephen's College\", 'Tung Wah Group of Hospitals Tsui Tsin Tong School – special-needs school for intellectual disability', 'Victoria Shanghai Academy', 'West Island School – an English Schools Foundation school', 'Yu Chun Keung Memorial College No.2', 'Assembly of God Hebron Evening School', 'Assembly of God Hebron Secondary School', 'Buddhist Tai Kwong Chi Hong College', 'Carmel Holy Word Secondary School', 'Carmel Pak U Secondary School', 'CCC Fung Leung Kit Memorial Secondary School', 'China Holiness Church Living Spirit College', 'Confucian Ho Kwok Pui Chun College', 'HKCT Adult Education Centre|HKCT Adult Education Centre (NTHYK Tai Po District Secondary School)', 'Hong Chi Pinehill School – special-needs school for intellectual disability', 'Hong Chi Pinehill No.2 School – special-needs school for intellectual disability', 'Hong Chi Pinehill No.3 School – special-needs school for intellectual disability', \"Hong Kong and Kowloon Kaifong Women's Association Sun Fong Chung College\", 'Hong Kong Red Swastika Society Tai Po Secondary School', 'Hong Kong Taoist Association The Yuen Yuen Institute No.2 Secondary School', \"Hong Kong Teachers' Association Evening Secondary School\", \"Hong Kong Teachers' Association Lee Heng Kwei Secondary School\", 'Kau Yan College', 'Law Ting Pong Secondary School', 'Ling Liang Church M. H. Lau Secondary School', 'New Territories Heung Yee Kuk Tai Po District Secondary School', 'SALEM-Immanuel Lutheran College', 'Sheng Kung Hui Bishop Mok Sau Tseng Secondary School', 'Spastics Association of Hong Kong Jockey Club Elaine Field School– special-needs school for physical disability', 'Tai Po Sam Yuk Secondary School', 'Valtorta College', 'Wong Shiu Chi Secondary School', 'AD & FD POHL Leung Sing Tak College', 'HKCT Adult Education Centre|HKCT Adult Education Centre (Tsuen Wan Government Secondary School)', 'Ho Fung College (Sponsored by Sik Sik Yuen)', 'Ho Koon Nature Education cum Astronomical Centre', 'Holy Cross Lutheran Evening College', 'Liu Po Shan Memorial College', 'Lui Ming Choi Lutheran College', 'Po Leung Kuk Lee Shing Pik College', 'Po Leung Kuk Yao Ling Sun College', 'Po on Commercial Association Wong Siu Ching Secondary School', 'Sheng Kung Hui Li Ping Secondary School', \"St. Francis Xavier's School, Tsuen Wan\", 'Textile Institute American Chamber of Commerce Woo Hon Fai Secondary School', 'Tsuen Wan Government Secondary School', 'Tsuen Wan Public Ho Chuen Yiu Memorial College', 'Yan Chai Hospital Lim Por Yen Secondary School', 'Baptist Wing Lung Secondary School', 'Buddhist Sum Heung Lam Memorial College', 'Caritas Tuen Mun Marden Foundation Secondary School', 'Carmel Bunnan Tong Memorial Secondary School', 'CCC Hoh Fuk Tong College', 'CCC Tam Lee Lai Fun Memorial Secondary School', 'Ching Chung Hau Po Woon Secondary School', 'Christian Alliance College', 'Christian Alliance S. C. Chan Memorial College', 'Chung Sing Benevolent Society Mrs. Aw Boon Haw Secondary School', 'CMA Choi Cheung Kok Secondary School', 'Harrow International School Hong Kong', 'HHCKLA Buddhist Leung Chik Wai College', 'HKCT Adult Education Centre|HKCT Adult Education Centre (Tuen Mun Government Secondary School)', 'Ho Ngai College|Ho Ngai College (Sponsored by Sik Sik Yuen)', 'Hong Chi Morninghill School, Tuen Mun – special-educational-needs school for intellectual disability', 'Hong Chi Morninghope School, Tuen Mun – special-educational-needs school for intellectual disability', 'Hong Chi Morninglight School, Tuen Mun – special-educational-needs school for intellectual disability', 'Hong Kong Christian Service Pui Oi School – special-educational-needs school for physical disability', 'Ju Ching Chu Secondary School (Tuen Mun)', 'Lui Cheung Kwong Lutheran College', 'Lui Cheung Kwong Lutheran Evening College', 'Madam Lau Kam Lung Secondary School of Miu Fat Buddhist Monastery', 'NLSI Peace Evangelical Secondary School', 'PAOC Ka Chi Secondary School', 'Po Leung Kuk Centenary Li Shiu Chung Memorial College', 'Po Leung Kuk Tang Yuk Tien College', 'San Wui Commercial Society Secondary School', 'Semple Memorial Secondary School', \"Sheng Kung Hui St. Simon's Lui Ming Choi Secondary School\", 'Shi Hui Wen Secondary School', 'Shun Tak Fraternal Association Leung Kau Kui College', 'Shun Tak Fraternal Association Tam Pak Yu College', 'South Tuen Mun Government Secondary School', 'Stewards MKMCF Ma Ko Pan Memorial College', 'Tsung Tsin College', 'Tuen Mun Catholic Secondary School', 'Tuen Mun Government Secondary School', 'Tung Wah Group of Hospitals Mr. and Mrs. Kwong Sik Kwan College – providing skills opportunity curricula', \"Tung Wah Group of Hospitals Sun Hoi Directors' College\", 'Tung Wah Group of Hospitals Yau Tze Tin Memorial college', 'Yan Chai Hospital No.2 Secondary School', 'Yan Oi Tong Chan Wong Suk Fong Memorial Secondary School', 'Yan Oi Tong Tin Ka Ping Secondary School', 'YPI & CA Lee Lim Ming College', 'Anantara College (Hong Kong)', 'Buddhist Wong Fung Ling College', 'CCC Kung Lee College', 'Concordia Lutheran School - North Point', 'Confucius Hall Middle School', 'HKCT Adult Education Centre|HKCT Adult Education Centre (Hotung Secondary School)', 'Hong Chi Lions Morninghill School – special-needs school for intellectual disability', 'Hong Kong Tang King Po College', 'Hotung Secondary School', 'Island School – an English Schools Foundation school', 'Jockey Club Hong Chi School – special-needs school for intellectual disability', 'Lycée Français International Victor Segalen', 'Marymount Secondary School', \"Queen's College\", \"Queen's College Old Boys' Association Evening School\", 'Rosaryhill School (Secondary Section)', 'Sheng Kung Hui Tang Shiu Kin Secondary School', \"St. Francis' Canossian College\", \"St. Paul's Convent School\", \"St. Paul's Secondary School\", 'Tang Shiu Kin Victoria Government Secondary School', 'True Light Middle School of Hong Kong', 'Tung Wah Group of Hospitals Lee Ching Dea Memorial College', 'Wah Yan College, Hong Kong', 'Assembly of God Evening Secondary School', 'Assembly of God Morrison College', 'Buddhist Hung Sean Chau Memorial College', 'Caritas Pelletier School – school for social development', 'CCC Heep Woh College', 'CCC Kei Heep Secondary School', 'CCC Rotary Secondary School', 'Chi Lin Buddhist Secondary School – providing skills opportunity curricula', 'Choi Hung Estate Catholic Secondary School', 'Chun Tok School – special-needs school for hearing impairment', 'Cognitio College (Kowloon)', 'Good Hope School', 'Ho Lap College (Sponsored by Sik Sik Yuen)', 'Hong Kong Red Cross Margaret Trench School – special-needs school for physical disability', 'International Christian Quality Music Secondary and Primary School', 'Kit Sam Lam Bing Yim Secondary School', 'Lee Kau Yan Memorial School', 'Lok Sin Tong Wong Chung Ming Secondary School', 'Lok Sin Tong Yu Kan Hing Secondary School', 'Lung Cheung Government Secondary School', 'Ng Wah Catholic Secondary School', \"Our Lady's College\", 'PHC Wing Kwong College', 'Po Leung Kuk Celine Ho Yam Tong College', 'Po Leung Kuk Centenary School – special-needs school for intellectual disability', 'Po Leung Kuk No.1 College (Evening Section)', 'Po Leung Kuk No.1 W. H. Cheung College', 'Rhenish Church Grace School – special-needs school for intellectual disability', 'Salvation Army William Booth Secondary School', \"Sheng Kung Hui St. Benedict's School\", 'St. Bonaventure College and High School', 'Stewards Pooi Tun Secondary School', 'Tak Oi Secondary School', 'CCC Ming Kei College', 'CCC Mongkok Church Kai Oi School – special-needs school for intellectual disability', \"Diocesan Girls' School\", 'ELCHK Lutheran Secondary School', 'HKCT Adult Education Centre (Queen Elizabeth School)', 'Hong Kong and Kowloon Chiu Chow Public Association Secondary School', 'HKMA David Li Kwok Po College', 'Kowloon Sam Yuk Secondary School', 'Lai Chack Middle School', 'Lung Kong World Federation School Limited Lau Wong Fat Secondary School', 'Methodist College', 'Newman Catholic College', 'PLK Vicwood KT Chong Sixth Form College', 'Po Leung Kuk Vicwood K. T. Chong Sixth Form College (Evening School)', 'Queen Elizabeth School', \"Sheng Kung Hui All Saints' Middle School\", 'Sir Ellis Kadoorie Secondary School (West Kowloon)', \"St. Francis Xavier's College\", \"St. Mary's Canossian College\", \"True Light Girls' College\", 'Wah Yan College, Kowloon', 'Bethel High School', 'Buddhist Mau Fung Memorial College', 'Buddhist TCFS Yeung Yat Lam Memorial School – special-needs school for intellectual disability', 'Caritas Lok Kan School – special-needs school for intellectual disability', 'Caritas Yuen Long Chan Chun Ha Secondary School', 'CCC Fong Yun Wah Secondary School', 'CCC Kei Long College', 'CCC Kei Yuen College', 'Chinese YMCA Secondary School', 'Chiu Lut Sau Memorial Secondary School', 'CUHKFAA Thomas Cheung Secondary School', 'Cumberland Presbyterian Church Yao Dao Secondary School', 'ELCHK Lutheran Academy', 'ELCHK Yuen Long Lutheran College', 'ELCHK Yuen Long Lutheran Secondary School', 'Gertrude Simon Lutheran College', 'Gertrude Simon Lutheran Evening College', 'Heung To Middle School (Tin Shui Wai)', 'Ho Dao College (Sponsored by Sik Sik Yuen)', 'Hong Chi Morningjoy School, Yuen Long – special-needs school for intellectual disability', 'Hong Chi Morninglight School, Yuen Long] – special-needs school for intellectual disability', 'Hong Kong Federation of Youth Groups Lee Shau Kee College', 'Hong Kong Management Association K. S. Lo College', 'Jockey Club Eduyoung College', 'Ju Ching Chu Secondary School (Yuen Long)', 'New Territories Heung Yee Kuk Yuen Long District Secondary School', 'Pak Kau College', 'Po Leung Kuk Laws Foundation School – special-needs school for intellectual disability', 'Pok Oi Hospital Tang Pui King Memorial College', 'Pui Shing Catholic Secondary School', \"Queen Elizabeth School Old Students' Association Secondary School\", \"Queen Elizabeth School Old Students' Association Tong Kwok Wah Secondary School\", 'Shap Pat Heung Rural Committee Kung Yik She Secondary School', 'Sheng Kung Hui Bishop Baker Secondary School', 'Shun Tak Fraternal Association Yung Yau College', 'Shung Tak Catholic English College', 'Tin Shui Wai Government Secondary School', 'Tin Shui Wai Methodist College', 'Tung Wah Group of Hospitals C. Y. Ma Memorial College', 'Tung Wah Group of Hospitals Kwok Yat Wai College', 'Tung Wah Group of Hospitals Lo Kon Ting Memorial College', 'YLPMSAA Tang Siu Tong Secondary School', 'Yuen Long Catholic Secondary School', 'Yuen Long Lutheran Evening School of the ELCHK', 'Yuen Long Merchants Association Secondary School', 'Yuen Long Public Secondary School', 'Yuen Yuen Institute MFBM Nei Ming Chan Lui Chung Tak Memorial College', 'Hong Kong Red Cross Hospital Schools – hospital school operating classes at 18 hospitals']\n"
          ]
        }
      ]
    },
    {
      "cell_type": "markdown",
      "metadata": {
        "id": "9mhufwmvnSy4"
      },
      "source": [
        "#### Part ii)\n",
        "\n",
        "Storing the school names in a list. Printing the total number of school names."
      ]
    },
    {
      "cell_type": "code",
      "metadata": {
        "colab": {
          "base_uri": "https://localhost:8080/"
        },
        "id": "nCwFPejYUdGx",
        "outputId": "befb9413-802f-43be-9225-9690fc759ede"
      },
      "source": [
        "# Names already stored in allNames list before in part i)\n",
        "# just printing the total number of school names\n",
        "\n",
        "print(\"Total Number of School names:\", len(allNames))"
      ],
      "execution_count": null,
      "outputs": [
        {
          "output_type": "stream",
          "name": "stdout",
          "text": [
            "Total Number of School names: 591\n"
          ]
        }
      ]
    },
    {
      "cell_type": "markdown",
      "metadata": {
        "id": "j3sGUPdCnjAR"
      },
      "source": [
        "####  Part iii)\n",
        "\n",
        "And printing all the school names (one school name per row)."
      ]
    },
    {
      "cell_type": "code",
      "metadata": {
        "colab": {
          "base_uri": "https://localhost:8080/"
        },
        "id": "MXSwXwWJYv1o",
        "outputId": "386e206f-111c-4db9-e82e-68ff939513ed"
      },
      "source": [
        "# Printing all names\n",
        "for i in allNames:\n",
        "  print(i)"
      ],
      "execution_count": null,
      "outputs": [
        {
          "output_type": "stream",
          "name": "stdout",
          "text": [
            "Island School\n",
            "Hong Kong Academy\n",
            "King's College\n",
            "Lok Sin Tong Leung Kau Kui College\n",
            "Sacred Heart Canossian College\n",
            "St. Clare's Girls' School\n",
            "St. Joseph's College\n",
            "St. Louis School\n",
            "St. Paul's Co-educational College\n",
            "St. Paul's College\n",
            "St. Stephen's Church College\n",
            "St. Stephen's Girls' College\n",
            "Ying Wa Girls' School\n",
            "Raimondi College\n",
            "Belilios Public School\n",
            "Canossa College\n",
            "Caritas Chai Wan Marden Foundation Secondary School\n",
            "Caritas Lok Yi School – special-needs school for intellectual disability\n",
            "CCC Kwei Wah Shan College\n",
            "Cheung Chuk Shan College\n",
            "The Chinese Foundation Secondary School\n",
            "Chinese International School\n",
            "Chong Gene Hang College\n",
            "Clementi Secondary School\n",
            "CNEC Lau Wing Sang Secondary School\n",
            "Cognitio College (Hong Kong)\n",
            "Delia School of Canada\n",
            "Fortress Hill Methodist Secondary School – providing skills opportunity curricula\n",
            "Fukien Secondary School (Siu Sai Wan)\n",
            "Henrietta Secondary School\n",
            "HKCT Adult Education Centre (Shau Kei Wan Government Secondary School)\n",
            "Hon Wah College\n",
            "Hong Kong Chinese Women's Club College\n",
            "Hongkong Japanese School (Junior Secondary Section)\n",
            "Islamic Kasim Tuet Memorial College\n",
            "Kellett School\n",
            "Kiangsu-Chekiang College, North Point\n",
            "Lingnan Hang Yee Memorial Secondary School\n",
            "Lingnan Secondary School\n",
            "Man Kiu College\n",
            "Methodist Church Hong Kong Wesley College\n",
            "Munsang College (Hong Kong Island)\n",
            "Po Leung Kuk Yu Lee Mo Fan Memorial School – special-needs school for intellectual disability\n",
            "Precious Blood Secondary School\n",
            "Pui Kiu Middle School\n",
            "Rotary Club of Hong Kong Island West Hong Chi Morninghope School – special-needs school for intellectual disability\n",
            "Salesian English School (Secondary)\n",
            "Shau Kei Wan East Government Secondary School\n",
            "Shau Kei Wan Government Secondary School\n",
            "Sheng Kung Hui Li Fook Hing Secondary School\n",
            "St. Joan of Arc Secondary School\n",
            "St. Mark's School\n",
            "Buddhist Fat Ho Memorial College\n",
            "Buddhist Wai Yan Memorial College\n",
            "Caritas Chan Chun Ha Field Studies Centre\n",
            "Caritas Charles Vath College\n",
            "Cheung Chau Government Secondary School\n",
            "Christian Zheng Sheng College\n",
            "Discovery Bay International School\n",
            "Discovery College – an English Schools Foundation private school\n",
            "HKFEW Wong Cho Bau Secondary School\n",
            "Ho Yu College and Primary School (Sponsored by Sik Sik Yuen)\n",
            "Ling Liang Church E Wun Secondary School\n",
            "Po Leung Kuk Mrs. Ma Kam Ming-Cheung Fook Sien College\n",
            "Tung Chung Catholic School\n",
            "YMCA of Hong Kong Christian College\n",
            "American International School\n",
            "Amoy College\n",
            "Anantara College\n",
            "Arts and Technology Education Centre\n",
            "Australian International School Hong Kong\n",
            "Bishop Hall Jubilee School\n",
            "Carmel Secondary School\n",
            "CCC Kei To Secondary School\n",
            "Chan Sui Ki (La Salle) College\n",
            "Christian Alliance P. C. Lau Memorial International School\n",
            "Diocesan Boys' School\n",
            "Diocesan Girls' School\n",
            "Heep Yunn School\n",
            "HKICC Lee Shau Kee School of Creativity\n",
            "Hoi Ping Chamber of Commerce Secondary School\n",
            "Holy Carpenter Secondary School\n",
            "Holy Family Canossian College\n",
            "Homantin Government Secondary School\n",
            "Jockey Club Government Secondary School\n",
            "Jockey Club Sarah Roe School – an English Schools Foundation school for special educational needs\n",
            "King George V School – an English Schools Foundation school\n",
            "Kingston International School\n",
            "Kowloon Tong School|Kowloon Tong School (Secondary Section)\n",
            "Kowloon True Light Middle School\n",
            "La Salle College\n",
            "Mary Rose School – special-needs school for intellectual disability\n",
            "Maryknoll Convent School (Secondary Section)\n",
            "Munsang College\n",
            "New Asia Middle School\n",
            "Notre Dame College\n",
            "Pentecostal School\n",
            "Po Leung Kuk Ngan Po Ling College\n",
            "Pooi To Middle School\n",
            "Pui Ching Middle School\n",
            "Rhenish Church Pang Hok-ko Memorial College\n",
            "Scientia Secondary School (formerly called Workers' Children Secondary School)\n",
            "Sear Rogers International School – Peninsula\n",
            "Sheng Kung Hui Holy Trinity Church Secondary School\n",
            "Sheng Kung Hui Tsoi Kung Po Secondary School\n",
            "Shun Tak Fraternal Association Seaward Woo College\n",
            "St. Teresa Secondary School\n",
            "Tang King Po School, Kowloon\n",
            "Tung Wah Group of Hospitals Wong Fut Nam College\n",
            "Wa Ying College\n",
            "Yew Chung International School – Secondary\n",
            "Yu Chun Keung Memorial College\n",
            "YWCA Hioe Tjo Yoeng College\n",
            "Buddhist Sin Tak College\n",
            "Buddhist Yip Kei Nam Memorial College\n",
            "Caritas St. Joseph Secondary School\n",
            "Carmel Alison Lam Foundation Secondary School\n",
            "CCC Chuen Yuen College\n",
            "CCC Yenching College\n",
            "CNEC Christian College\n",
            "CNEC Lee I Yao Memorial Secondary School\n",
            "Cotton Spinners Association Secondary School\n",
            "Daughters of Mary Help of Christians Siu Ming Catholic Secondary School\n",
            "HKSYC & IA Chan Nam Chong Memorial College\n",
            "HKSYC & IA Chan Nam Chong Memorial School – special-needs school for intellectual disability\n",
            "Hong Chi Winifred Mary Cheung Morning School – special-needs school for intellectual disability\n",
            "Hong Kong Taoist Association the Yuen Yuen Institute No.1 Secondary School\n",
            "Ju Ching Chu Secondary School (Kwai Chung)\n",
            "Kiangsu-Chekiang College (Kwai Chung)\n",
            "Kwai Chung Methodist College\n",
            "Lai King Catholic Secondary School\n",
            "Lingnan Dr. Chung Wing Kwong Memorial Secondary School\n",
            "Lions College\n",
            "Lok Sin Tong Ku Chiu Man Secondary School\n",
            "Lok Sin Tong Leung Chik Wai Memorial School\n",
            "Lutheran School for the Deaf – special-needs school for hearing impairment\n",
            "Methodist Lee Wai Lee College\n",
            "Po Leung Kuk Lo Kit Sing (1983) College\n",
            "Po Leung Kuk Mr. & Mrs. Chan Pak Keung Tsing Yi School – special-needs school for intellectual disability\n",
            "Pope Paul VI College\n",
            "Queen's College Old Boys' Association Secondary School\n",
            "Queen's College Old Boys' Association Tsing Yi Evening School\n",
            "Salesians of Don Bosco Ng Siu Mui Secondary School\n",
            "Sam Shui Natives Association Lau Pun Cheung School – special-needs school for intellectual disability\n",
            "Shek Lei Catholic Secondary School\n",
            "Sheng Kung Hui Lam Woo Memorial Secondary School\n",
            "Shun Tak Fraternal Association Lee Shau Kee College\n",
            "Spastics Association of Hong Kong B. M. Kotewall Memorial School – special-needs school for physical disability\n",
            "Tung Wah Group of Hospitals Chen Zao Men College\n",
            "Tung Wah Group of Hospitals Mrs. Wu York Yu Memorial College\n",
            "Tung Wah Group of Hospitals S. C. Gaw Memorial College\n",
            "Buddhist Ho Nam Kam College\n",
            "CCC Kei Chi Secondary School\n",
            "CCC Kei Shun Special School – special-needs school for intellectual disability\n",
            "CCC Mong Man Wai College\n",
            "Delia Memorial Evening School (Kwun Tong)\n",
            "Delia Memorial Matriculation Evening Course (Kwun Tong)\n",
            "Delia Memorial School (Hip Wo)\n",
            "Delia Memorial School (Matteo Ricci)\n",
            "Delia Memorial School (Yuet Wah)\n",
            "Evan China Fellowship Holy Word School – special-needs school for intellectual disability\n",
            "ECF Saint Too Canaan College\n",
            "FDBWA Szeto Ho Secondary School\n",
            "Fukien Secondary School\n",
            "HKWMA Chu Shek Lun Secondary School\n",
            "Hong Kong Red Cross Princess Alexandra School – special-needs school for physical disability\n",
            "Hong Kong Sheng Kung Hui Bishop Hall Secondary School\n",
            "Hong Kong Taoist Association Ching Chung Secondary School\n",
            "Ko Lui Secondary School\n",
            "Kwun Tong Government Secondary School\n",
            "Kwun Tong Kung Lok Government Secondary School\n",
            "Kwun Tong Lutheran College\n",
            "Kwun Tong Lutheran Evening School\n",
            "Kwun Tong Maryknoll College\n",
            "Leung Shek Chee College\n",
            "Maryknoll Secondary School\n",
            "Mission Covenant Church Holm Glad College\n",
            "Mu Kuang English School\n",
            "Ning Po College\n",
            "Ning Po No.2 College\n",
            "NLSI Lui Kwok Pat Fong College\n",
            "Po Chiu Catholic Secondary School\n",
            "Sheng Kung Hui Kei Hau Secondary School\n",
            "Sheng Kung Hui Leung Kwai Yee Secondary School\n",
            "Shun Lee Catholic Secondary School\n",
            "Sing Yin Secondary School\n",
            "Society of Boys' Centres Shing Tak Centre School – school for social development\n",
            "St. Antonius Girls' College\n",
            "St. Catharine's School for Girls\n",
            "St. Joseph's Anglo-Chinese School\n",
            "St. Paul's School (Lam Tin)\n",
            "United Christian College (Kowloon East)\n",
            "Yan Chai Hospital Law Chan Chor Si College\n",
            "Caritas Fanling Chan Chun Ha Secondary School\n",
            "CCC Kei San Secondary School\n",
            "Christian Alliance S. W. Chan Memorial College\n",
            "De La Salle Secondary School, N.T.\n",
            "Elegantia College (Sponsored by Education Convergence)\n",
            "Fanling Government Secondary School\n",
            "Fanling Kau Yan College\n",
            "Fanling Lutheran Secondary School\n",
            "Fanling Rhenish Church Secondary School\n",
            "Fung Kai Liu Man Shek Tong Secondary School\n",
            "Fung Kai No.1 Secondary School\n",
            "HHCKLA Buddhist Ma Kam Chan Memorial English Secondary School\n",
            "HHCKLA Buddhist Po Kwong School – special-needs school for intellectual disability\n",
            "Hong Kong Taoist Association Tang Hin Memorial Secondary School\n",
            "International College Hong Kong\n",
            "Po Leung Kuk Ma Kam Ming College\n",
            "Salvation Army Shek Wu School – special-needs school for intellectual disability\n",
            "Sheng Kung Hui Chan Young Secondary School\n",
            "Sheung Shui Government Secondary School\n",
            "St. Francis of Assisi's College\n",
            "Tin Ka Ping Secondary School\n",
            "Tung Wah Group of Hospitals Kap Yan Directors' College\n",
            "Tung Wah Group of Hospitals Li Ka Shing College\n",
            "Carmel Divine Grace Foundation Secondary School\n",
            "Catholic Ming Yuen Secondary School\n",
            "Cheng Chek Chee Secondary School of Sai Kung and Hang Hau District, New Territories\n",
            "Christian and Missionary Alliance Sun Kei Secondary School\n",
            "Creative Secondary School\n",
            "Evangel College\n",
            "G. T. (Ellen Yeung) College\n",
            "Haven of Hope Sunnyside School – special-needs school for intellectual disability\n",
            "Heung To Secondary School (Tseung Kwan O)\n",
            "HHCKLA Buddhist Ching Kok Secondary School\n",
            "HKCCCU Logos Academy\n",
            "Hong Chi Morninghill School, Tsui Lam – special-needs school for intellectual disability\n",
            "Hong Kong Adventist Academy\n",
            "Hong Kong and Macau Lutheran Church Queen Maud Secondary School\n",
            "Hong Kong Taoist Association the Yuen Yuen Institute No.3 Secondary School\n",
            "King Ling College\n",
            "MKMCF Ma Chan Duen Hey Memorial College\n",
            "MKMCF Ma Chan Duen Hey Memorial Evening College\n",
            "Po Kok Secondary School\n",
            "Po Leung Kuk Ho Yuk Ching (1984) College (was named Po Leung Kuk 1984 College)\n",
            "Po Leung Kuk Laws Foundation College\n",
            "Pok Oi Hospital 80th Anniversary Tang Ying Hei College\n",
            "QualiEd College\n",
            "Sai Kung Sung Tsun Catholic School\n",
            "Shun Tak Fraternal Association Cheng Yu Tung Secondary School\n",
            "Tseung Kwan O Government Secondary School\n",
            "Tseung Kwan O Pui Chi School – special-needs school for intellectual disability\n",
            "Tung Wah Group of Hospitals Lui Yun Choy Memorial College\n",
            "Wellington Education Organization Chang Pui Chung Memorial School\n",
            "Yan Chai Hospital Lan Chi Pat Memorial Secondary School\n",
            "Yan Chai Hospital Wong Wha San Secondary School\n",
            "Renaissance College – an English Schools Foundation private school\n",
            "Baptist Lui Ming Choi Secondary School\n",
            "Buddhist Kok Kwong Secondary School\n",
            "Buddhist Wong Wan Tin College\n",
            "Caritas Lok Jun School – special-needs school for intellectual disability\n",
            "Caritas Ma On Shan Secondary School\n",
            "Caritas Resurrection School – special-needs school for intellectual disability\n",
            "Chinese YMCA College\n",
            "Chiu Chow Association Secondary School\n",
            "Choi Jun School – special-needs school for intellectual disability\n",
            "Christ College\n",
            "Christian Alliance Cheng Wing Gee College\n",
            "CUHKFAA Chan Chun Ha Secondary School\n",
            "GCC & ITKD Lau Pak Lok Secondary School\n",
            "Helen Liang Memorial Secondary School (Shatin)\n",
            "HKBUAS Wong Kam Fai Secondary and Primary School\n",
            "HKCT Adult Education Centre (Sha Tin Government Secondary School)\n",
            "Hong Kong and Kowloon CCPA Ma Chung Sum Secondary School\n",
            "Hong Kong Chinese Women's Club Fung Yiu King Memorial Secondary School\n",
            "Immaculate Heart of Mary College\n",
            "International Christian School\n",
            "Jockey Club Ti–I College\n",
            "Kiangsu-Chekiang College (Shatin)\n",
            "Kwok Tak Seng Catholic Secondary School\n",
            "Lam Tai Fai College\n",
            "Li Po Chun United World College of Hong Kong\n",
            "Lock Tao Secondary School\n",
            "Lok Sin Tong Young Ko Hsiao Lin Secondary School\n",
            "Ma On Shan St. Joseph's Secondary School\n",
            "Ma On Shan Tsung Tsin Secondary School\n",
            "Ng Yuk Secondary School\n",
            "Pentecostal Lam Hon Kwong School\n",
            "Po Leung Kuk C. W. Chu College\n",
            "Po Leung Kuk C. W. Chu Education Services Centre (Evening Section)\n",
            "Po Leung Kuk Wu Chung College\n",
            "Pok Oi Hospital Chan Kai Memorial College\n",
            "Pui Kiu College\n",
            "Sha Tin Government Secondary School\n",
            "Sha Tin Methodist College\n",
            "Shatin College – an English Schools Foundation school\n",
            "Shatin Lutheran Evening School\n",
            "Shatin Public School – special-needs school for intellectual disability\n",
            "Shatin Pui Ying College\n",
            "Shatin Tsung Tsin Secondary School\n",
            "Sheng Kung Hui Lam Kau Mow Secondary School\n",
            "Sheng Kung Hui Tsang Shiu Tim Secondary School\n",
            "Spastics Association of Hong Kong Ko Fook Iu Memorial School – special-needs school for physical disability\n",
            "St. Rose of Lima's College\n",
            "Stewards Pooi Kei College\n",
            "Tak Sun Secondary School\n",
            "Toi Shan Association College\n",
            "Tsang Pik Shan Secondary School\n",
            "Tung Wah Group of Hospitals Mrs. Fung Wong Fung Ting College\n",
            "Tung Wah Group of Hospitals Wong Fung Ling College\n",
            "Tung Wah Group of Hospitals Yow Kam Yuen College\n",
            "Yan Chai Hospital Tung Chi Ying Memorial Secondary School\n",
            "Buddhist Tai Hung College\n",
            "Caritas Jockey Club Lok Yan School – special-needs school for intellectual disability\n",
            "CCC Ming Yin College\n",
            "Chan Shu Kui Memorial School\n",
            "Cheung Sha Wan Catholic Secondary School\n",
            "Chi Yun School – special-needs school for intellectual disability\n",
            "China Holiness College\n",
            "CMA Secondary School\n",
            "Concordia International School\n",
            "Concordia Lutheran Evening School\n",
            "Concordia Lutheran School (Hong Kong)\n",
            "Delia Memorial Matriculation Evening Course (Broadway)\n",
            "Delia Memorial Matriculation Evening Course (Glee Path)\n",
            "Delia Memorial School (Broadway)\n",
            "Delia Memorial School (Glee Path)\n",
            "Heung To Middle School\n",
            "HKCT Adult Education Centre (Kowloon Technical School)\n",
            "HKSYC & IA Wong Tai Shan Memorial College\n",
            "Holy Trinity College\n",
            "Kowloon Technical School\n",
            "Maria College\n",
            "Maria Evening College\n",
            "Maryknoll Fathers' School\n",
            "Mental Health Association of Hong Kong - Cornwall School – special-needs school for intellectual disability\n",
            "Nam Wah Catholic Secondary School\n",
            "Our Lady of the Rosary College\n",
            "Po Leung Kuk Choi Kai Yau School\n",
            "Po Leung Kuk Vicwood K.T. Chong Sixth Form College\n",
            "Po Leung Kuk Tong Nai Kan Junior Secondary College\n",
            "Saviour Lutheran School – special-needs school for intellectual disability\n",
            "Sheng Kung Hui St. Mary's Church Mok Hing Yiu College\n",
            "Society of Boys' Centres Chak Yan Centre School – school for social development\n",
            "Society of Boys' Centres Hui Chung Sing Memorial School – school for social development\n",
            "St. Margaret's Co-educational English Secondary and Primary School\n",
            "Tack Ching Girls' Secondary School\n",
            "Tak Nga Secondary School\n",
            "Tsung Tsin Christian Academy\n",
            "Tsung Tsin Middle School\n",
            "Tung Wah Group of Hospitals Chang Ming Thien College\n",
            "Tung Wah Group of Hospitals Kwan Fong Kai Chi School – special-needs school for intellectual disability\n",
            "United Christian College\n",
            "Wai Kiu College\n",
            "Wai Kiu Evenign College\n",
            "Ying Wa College\n",
            "Aberdeen Baptist Lui Ming Choi College\n",
            "Aberdeen Technical School\n",
            "Canadian International School of Hong Kong\n",
            "Caritas Chong Yuet Ming Secondary School\n",
            "Caritas Wu Cheng-chung Secondary School\n",
            "Ebenezer New Hope School]] – special-needs school for visual impairment\n",
            "Ebenezer School – special-needs school for visual impairment\n",
            "German Swiss International School\n",
            "Hong Kong International School\n",
            "Hong Kong Juvenile Care Centre Chan Nam Cheong Memorial School – school for social development\n",
            "Hong Kong Red Cross John F. Kennedy Centre – special-needs school for physical disability\n",
            "Hong Kong Sea School\n",
            "Hong Kong True Light College\n",
            "Hong Kong University Graduate Association College\n",
            "Independent Schools Foundation Academy\n",
            "Marycove School – school for social development\n",
            "Po Leung Kuk Wai Yin College\n",
            "Pui Tak Canossian College\n",
            "Pui Ying Secondary School\n",
            "Sacred Heart Canossian College\n",
            "San Wui Commercial Society Chan Pak Sha School\n",
            "Sheng Kung Hui Lui Ming Choi Secondary School\n",
            "Singapore International School\n",
            "South Island School – an International English Schools Foundation school\n",
            "St. Peter's Secondary School\n",
            "St. Stephen's College\n",
            "Tung Wah Group of Hospitals Tsui Tsin Tong School – special-needs school for intellectual disability\n",
            "Victoria Shanghai Academy\n",
            "West Island School – an English Schools Foundation school\n",
            "Yu Chun Keung Memorial College No.2\n",
            "Assembly of God Hebron Evening School\n",
            "Assembly of God Hebron Secondary School\n",
            "Buddhist Tai Kwong Chi Hong College\n",
            "Carmel Holy Word Secondary School\n",
            "Carmel Pak U Secondary School\n",
            "CCC Fung Leung Kit Memorial Secondary School\n",
            "China Holiness Church Living Spirit College\n",
            "Confucian Ho Kwok Pui Chun College\n",
            "HKCT Adult Education Centre|HKCT Adult Education Centre (NTHYK Tai Po District Secondary School)\n",
            "Hong Chi Pinehill School – special-needs school for intellectual disability\n",
            "Hong Chi Pinehill No.2 School – special-needs school for intellectual disability\n",
            "Hong Chi Pinehill No.3 School – special-needs school for intellectual disability\n",
            "Hong Kong and Kowloon Kaifong Women's Association Sun Fong Chung College\n",
            "Hong Kong Red Swastika Society Tai Po Secondary School\n",
            "Hong Kong Taoist Association The Yuen Yuen Institute No.2 Secondary School\n",
            "Hong Kong Teachers' Association Evening Secondary School\n",
            "Hong Kong Teachers' Association Lee Heng Kwei Secondary School\n",
            "Kau Yan College\n",
            "Law Ting Pong Secondary School\n",
            "Ling Liang Church M. H. Lau Secondary School\n",
            "New Territories Heung Yee Kuk Tai Po District Secondary School\n",
            "SALEM-Immanuel Lutheran College\n",
            "Sheng Kung Hui Bishop Mok Sau Tseng Secondary School\n",
            "Spastics Association of Hong Kong Jockey Club Elaine Field School– special-needs school for physical disability\n",
            "Tai Po Sam Yuk Secondary School\n",
            "Valtorta College\n",
            "Wong Shiu Chi Secondary School\n",
            "AD & FD POHL Leung Sing Tak College\n",
            "HKCT Adult Education Centre|HKCT Adult Education Centre (Tsuen Wan Government Secondary School)\n",
            "Ho Fung College (Sponsored by Sik Sik Yuen)\n",
            "Ho Koon Nature Education cum Astronomical Centre\n",
            "Holy Cross Lutheran Evening College\n",
            "Liu Po Shan Memorial College\n",
            "Lui Ming Choi Lutheran College\n",
            "Po Leung Kuk Lee Shing Pik College\n",
            "Po Leung Kuk Yao Ling Sun College\n",
            "Po on Commercial Association Wong Siu Ching Secondary School\n",
            "Sheng Kung Hui Li Ping Secondary School\n",
            "St. Francis Xavier's School, Tsuen Wan\n",
            "Textile Institute American Chamber of Commerce Woo Hon Fai Secondary School\n",
            "Tsuen Wan Government Secondary School\n",
            "Tsuen Wan Public Ho Chuen Yiu Memorial College\n",
            "Yan Chai Hospital Lim Por Yen Secondary School\n",
            "Baptist Wing Lung Secondary School\n",
            "Buddhist Sum Heung Lam Memorial College\n",
            "Caritas Tuen Mun Marden Foundation Secondary School\n",
            "Carmel Bunnan Tong Memorial Secondary School\n",
            "CCC Hoh Fuk Tong College\n",
            "CCC Tam Lee Lai Fun Memorial Secondary School\n",
            "Ching Chung Hau Po Woon Secondary School\n",
            "Christian Alliance College\n",
            "Christian Alliance S. C. Chan Memorial College\n",
            "Chung Sing Benevolent Society Mrs. Aw Boon Haw Secondary School\n",
            "CMA Choi Cheung Kok Secondary School\n",
            "Harrow International School Hong Kong\n",
            "HHCKLA Buddhist Leung Chik Wai College\n",
            "HKCT Adult Education Centre|HKCT Adult Education Centre (Tuen Mun Government Secondary School)\n",
            "Ho Ngai College|Ho Ngai College (Sponsored by Sik Sik Yuen)\n",
            "Hong Chi Morninghill School, Tuen Mun – special-educational-needs school for intellectual disability\n",
            "Hong Chi Morninghope School, Tuen Mun – special-educational-needs school for intellectual disability\n",
            "Hong Chi Morninglight School, Tuen Mun – special-educational-needs school for intellectual disability\n",
            "Hong Kong Christian Service Pui Oi School – special-educational-needs school for physical disability\n",
            "Ju Ching Chu Secondary School (Tuen Mun)\n",
            "Lui Cheung Kwong Lutheran College\n",
            "Lui Cheung Kwong Lutheran Evening College\n",
            "Madam Lau Kam Lung Secondary School of Miu Fat Buddhist Monastery\n",
            "NLSI Peace Evangelical Secondary School\n",
            "PAOC Ka Chi Secondary School\n",
            "Po Leung Kuk Centenary Li Shiu Chung Memorial College\n",
            "Po Leung Kuk Tang Yuk Tien College\n",
            "San Wui Commercial Society Secondary School\n",
            "Semple Memorial Secondary School\n",
            "Sheng Kung Hui St. Simon's Lui Ming Choi Secondary School\n",
            "Shi Hui Wen Secondary School\n",
            "Shun Tak Fraternal Association Leung Kau Kui College\n",
            "Shun Tak Fraternal Association Tam Pak Yu College\n",
            "South Tuen Mun Government Secondary School\n",
            "Stewards MKMCF Ma Ko Pan Memorial College\n",
            "Tsung Tsin College\n",
            "Tuen Mun Catholic Secondary School\n",
            "Tuen Mun Government Secondary School\n",
            "Tung Wah Group of Hospitals Mr. and Mrs. Kwong Sik Kwan College – providing skills opportunity curricula\n",
            "Tung Wah Group of Hospitals Sun Hoi Directors' College\n",
            "Tung Wah Group of Hospitals Yau Tze Tin Memorial college\n",
            "Yan Chai Hospital No.2 Secondary School\n",
            "Yan Oi Tong Chan Wong Suk Fong Memorial Secondary School\n",
            "Yan Oi Tong Tin Ka Ping Secondary School\n",
            "YPI & CA Lee Lim Ming College\n",
            "Anantara College (Hong Kong)\n",
            "Buddhist Wong Fung Ling College\n",
            "CCC Kung Lee College\n",
            "Concordia Lutheran School - North Point\n",
            "Confucius Hall Middle School\n",
            "HKCT Adult Education Centre|HKCT Adult Education Centre (Hotung Secondary School)\n",
            "Hong Chi Lions Morninghill School – special-needs school for intellectual disability\n",
            "Hong Kong Tang King Po College\n",
            "Hotung Secondary School\n",
            "Island School – an English Schools Foundation school\n",
            "Jockey Club Hong Chi School – special-needs school for intellectual disability\n",
            "Lycée Français International Victor Segalen\n",
            "Marymount Secondary School\n",
            "Queen's College\n",
            "Queen's College Old Boys' Association Evening School\n",
            "Rosaryhill School (Secondary Section)\n",
            "Sheng Kung Hui Tang Shiu Kin Secondary School\n",
            "St. Francis' Canossian College\n",
            "St. Paul's Convent School\n",
            "St. Paul's Secondary School\n",
            "Tang Shiu Kin Victoria Government Secondary School\n",
            "True Light Middle School of Hong Kong\n",
            "Tung Wah Group of Hospitals Lee Ching Dea Memorial College\n",
            "Wah Yan College, Hong Kong\n",
            "Assembly of God Evening Secondary School\n",
            "Assembly of God Morrison College\n",
            "Buddhist Hung Sean Chau Memorial College\n",
            "Caritas Pelletier School – school for social development\n",
            "CCC Heep Woh College\n",
            "CCC Kei Heep Secondary School\n",
            "CCC Rotary Secondary School\n",
            "Chi Lin Buddhist Secondary School – providing skills opportunity curricula\n",
            "Choi Hung Estate Catholic Secondary School\n",
            "Chun Tok School – special-needs school for hearing impairment\n",
            "Cognitio College (Kowloon)\n",
            "Good Hope School\n",
            "Ho Lap College (Sponsored by Sik Sik Yuen)\n",
            "Hong Kong Red Cross Margaret Trench School – special-needs school for physical disability\n",
            "International Christian Quality Music Secondary and Primary School\n",
            "Kit Sam Lam Bing Yim Secondary School\n",
            "Lee Kau Yan Memorial School\n",
            "Lok Sin Tong Wong Chung Ming Secondary School\n",
            "Lok Sin Tong Yu Kan Hing Secondary School\n",
            "Lung Cheung Government Secondary School\n",
            "Ng Wah Catholic Secondary School\n",
            "Our Lady's College\n",
            "PHC Wing Kwong College\n",
            "Po Leung Kuk Celine Ho Yam Tong College\n",
            "Po Leung Kuk Centenary School – special-needs school for intellectual disability\n",
            "Po Leung Kuk No.1 College (Evening Section)\n",
            "Po Leung Kuk No.1 W. H. Cheung College\n",
            "Rhenish Church Grace School – special-needs school for intellectual disability\n",
            "Salvation Army William Booth Secondary School\n",
            "Sheng Kung Hui St. Benedict's School\n",
            "St. Bonaventure College and High School\n",
            "Stewards Pooi Tun Secondary School\n",
            "Tak Oi Secondary School\n",
            "CCC Ming Kei College\n",
            "CCC Mongkok Church Kai Oi School – special-needs school for intellectual disability\n",
            "Diocesan Girls' School\n",
            "ELCHK Lutheran Secondary School\n",
            "HKCT Adult Education Centre (Queen Elizabeth School)\n",
            "Hong Kong and Kowloon Chiu Chow Public Association Secondary School\n",
            "HKMA David Li Kwok Po College\n",
            "Kowloon Sam Yuk Secondary School\n",
            "Lai Chack Middle School\n",
            "Lung Kong World Federation School Limited Lau Wong Fat Secondary School\n",
            "Methodist College\n",
            "Newman Catholic College\n",
            "PLK Vicwood KT Chong Sixth Form College\n",
            "Po Leung Kuk Vicwood K. T. Chong Sixth Form College (Evening School)\n",
            "Queen Elizabeth School\n",
            "Sheng Kung Hui All Saints' Middle School\n",
            "Sir Ellis Kadoorie Secondary School (West Kowloon)\n",
            "St. Francis Xavier's College\n",
            "St. Mary's Canossian College\n",
            "True Light Girls' College\n",
            "Wah Yan College, Kowloon\n",
            "Bethel High School\n",
            "Buddhist Mau Fung Memorial College\n",
            "Buddhist TCFS Yeung Yat Lam Memorial School – special-needs school for intellectual disability\n",
            "Caritas Lok Kan School – special-needs school for intellectual disability\n",
            "Caritas Yuen Long Chan Chun Ha Secondary School\n",
            "CCC Fong Yun Wah Secondary School\n",
            "CCC Kei Long College\n",
            "CCC Kei Yuen College\n",
            "Chinese YMCA Secondary School\n",
            "Chiu Lut Sau Memorial Secondary School\n",
            "CUHKFAA Thomas Cheung Secondary School\n",
            "Cumberland Presbyterian Church Yao Dao Secondary School\n",
            "ELCHK Lutheran Academy\n",
            "ELCHK Yuen Long Lutheran College\n",
            "ELCHK Yuen Long Lutheran Secondary School\n",
            "Gertrude Simon Lutheran College\n",
            "Gertrude Simon Lutheran Evening College\n",
            "Heung To Middle School (Tin Shui Wai)\n",
            "Ho Dao College (Sponsored by Sik Sik Yuen)\n",
            "Hong Chi Morningjoy School, Yuen Long – special-needs school for intellectual disability\n",
            "Hong Chi Morninglight School, Yuen Long] – special-needs school for intellectual disability\n",
            "Hong Kong Federation of Youth Groups Lee Shau Kee College\n",
            "Hong Kong Management Association K. S. Lo College\n",
            "Jockey Club Eduyoung College\n",
            "Ju Ching Chu Secondary School (Yuen Long)\n",
            "New Territories Heung Yee Kuk Yuen Long District Secondary School\n",
            "Pak Kau College\n",
            "Po Leung Kuk Laws Foundation School – special-needs school for intellectual disability\n",
            "Pok Oi Hospital Tang Pui King Memorial College\n",
            "Pui Shing Catholic Secondary School\n",
            "Queen Elizabeth School Old Students' Association Secondary School\n",
            "Queen Elizabeth School Old Students' Association Tong Kwok Wah Secondary School\n",
            "Shap Pat Heung Rural Committee Kung Yik She Secondary School\n",
            "Sheng Kung Hui Bishop Baker Secondary School\n",
            "Shun Tak Fraternal Association Yung Yau College\n",
            "Shung Tak Catholic English College\n",
            "Tin Shui Wai Government Secondary School\n",
            "Tin Shui Wai Methodist College\n",
            "Tung Wah Group of Hospitals C. Y. Ma Memorial College\n",
            "Tung Wah Group of Hospitals Kwok Yat Wai College\n",
            "Tung Wah Group of Hospitals Lo Kon Ting Memorial College\n",
            "YLPMSAA Tang Siu Tong Secondary School\n",
            "Yuen Long Catholic Secondary School\n",
            "Yuen Long Lutheran Evening School of the ELCHK\n",
            "Yuen Long Merchants Association Secondary School\n",
            "Yuen Long Public Secondary School\n",
            "Yuen Yuen Institute MFBM Nei Ming Chan Lui Chung Tak Memorial College\n",
            "Hong Kong Red Cross Hospital Schools – hospital school operating classes at 18 hospitals\n"
          ]
        }
      ]
    },
    {
      "cell_type": "markdown",
      "metadata": {
        "id": "faE2DX-3nv9i"
      },
      "source": [
        "#### Part iv)\n",
        "\n",
        "Using re to search those school names ending with the word ‘College’."
      ]
    },
    {
      "cell_type": "code",
      "metadata": {
        "id": "Lfw32JxlZBQB"
      },
      "source": [
        "# importing required library\n",
        "import re"
      ],
      "execution_count": null,
      "outputs": []
    },
    {
      "cell_type": "code",
      "metadata": {
        "colab": {
          "base_uri": "https://localhost:8080/"
        },
        "id": "HIMyyvMncF8o",
        "outputId": "26c6e9b9-9f9b-41ff-eca1-8c3dfb3a51d2"
      },
      "source": [
        "\n",
        "listOfNamesEndingWithCollege = []\n",
        "for i in allNames:\n",
        "  result = re.search('college$', i, re.IGNORECASE)\n",
        "  if result != None:\n",
        "    listOfNamesEndingWithCollege.append(i)\n",
        "# Printing the list for my confirmation\n",
        "print(listOfNamesEndingWithCollege)"
      ],
      "execution_count": null,
      "outputs": [
        {
          "output_type": "stream",
          "name": "stdout",
          "text": [
            "[\"King's College\", 'Lok Sin Tong Leung Kau Kui College', 'Sacred Heart Canossian College', \"St. Joseph's College\", \"St. Paul's Co-educational College\", \"St. Paul's College\", \"St. Stephen's Church College\", \"St. Stephen's Girls' College\", 'Raimondi College', 'Canossa College', 'CCC Kwei Wah Shan College', 'Cheung Chuk Shan College', 'Chong Gene Hang College', 'Hon Wah College', \"Hong Kong Chinese Women's Club College\", 'Islamic Kasim Tuet Memorial College', 'Man Kiu College', 'Methodist Church Hong Kong Wesley College', 'Buddhist Fat Ho Memorial College', 'Buddhist Wai Yan Memorial College', 'Caritas Charles Vath College', 'Christian Zheng Sheng College', 'Po Leung Kuk Mrs. Ma Kam Ming-Cheung Fook Sien College', 'YMCA of Hong Kong Christian College', 'Amoy College', 'Anantara College', 'Chan Sui Ki (La Salle) College', 'Holy Family Canossian College', 'La Salle College', 'Munsang College', 'Notre Dame College', 'Po Leung Kuk Ngan Po Ling College', 'Rhenish Church Pang Hok-ko Memorial College', 'Shun Tak Fraternal Association Seaward Woo College', 'Tung Wah Group of Hospitals Wong Fut Nam College', 'Wa Ying College', 'Yu Chun Keung Memorial College', 'YWCA Hioe Tjo Yoeng College', 'Buddhist Sin Tak College', 'Buddhist Yip Kei Nam Memorial College', 'CCC Chuen Yuen College', 'CCC Yenching College', 'CNEC Christian College', 'HKSYC & IA Chan Nam Chong Memorial College', 'Kwai Chung Methodist College', 'Lions College', 'Methodist Lee Wai Lee College', 'Po Leung Kuk Lo Kit Sing (1983) College', 'Pope Paul VI College', 'Shun Tak Fraternal Association Lee Shau Kee College', 'Tung Wah Group of Hospitals Chen Zao Men College', 'Tung Wah Group of Hospitals Mrs. Wu York Yu Memorial College', 'Tung Wah Group of Hospitals S. C. Gaw Memorial College', 'Buddhist Ho Nam Kam College', 'CCC Mong Man Wai College', 'ECF Saint Too Canaan College', 'Kwun Tong Lutheran College', 'Kwun Tong Maryknoll College', 'Leung Shek Chee College', 'Mission Covenant Church Holm Glad College', 'Ning Po College', 'Ning Po No.2 College', 'NLSI Lui Kwok Pat Fong College', \"St. Antonius Girls' College\", 'Yan Chai Hospital Law Chan Chor Si College', 'Christian Alliance S. W. Chan Memorial College', 'Fanling Kau Yan College', 'Po Leung Kuk Ma Kam Ming College', \"St. Francis of Assisi's College\", \"Tung Wah Group of Hospitals Kap Yan Directors' College\", 'Tung Wah Group of Hospitals Li Ka Shing College', 'Evangel College', 'G. T. (Ellen Yeung) College', 'King Ling College', 'MKMCF Ma Chan Duen Hey Memorial College', 'MKMCF Ma Chan Duen Hey Memorial Evening College', 'Po Leung Kuk Laws Foundation College', 'Pok Oi Hospital 80th Anniversary Tang Ying Hei College', 'QualiEd College', 'Tung Wah Group of Hospitals Lui Yun Choy Memorial College', 'Buddhist Wong Wan Tin College', 'Chinese YMCA College', 'Christ College', 'Christian Alliance Cheng Wing Gee College', 'Immaculate Heart of Mary College', 'Jockey Club Ti–I College', 'Lam Tai Fai College', 'Po Leung Kuk C. W. Chu College', 'Po Leung Kuk Wu Chung College', 'Pok Oi Hospital Chan Kai Memorial College', 'Pui Kiu College', 'Sha Tin Methodist College', 'Shatin Pui Ying College', \"St. Rose of Lima's College\", 'Stewards Pooi Kei College', 'Toi Shan Association College', 'Tung Wah Group of Hospitals Mrs. Fung Wong Fung Ting College', 'Tung Wah Group of Hospitals Wong Fung Ling College', 'Tung Wah Group of Hospitals Yow Kam Yuen College', 'Buddhist Tai Hung College', 'CCC Ming Yin College', 'China Holiness College', 'HKSYC & IA Wong Tai Shan Memorial College', 'Holy Trinity College', 'Maria College', 'Maria Evening College', 'Our Lady of the Rosary College', 'Po Leung Kuk Vicwood K.T. Chong Sixth Form College', 'Po Leung Kuk Tong Nai Kan Junior Secondary College', \"Sheng Kung Hui St. Mary's Church Mok Hing Yiu College\", 'Tung Wah Group of Hospitals Chang Ming Thien College', 'United Christian College', 'Wai Kiu College', 'Wai Kiu Evenign College', 'Ying Wa College', 'Aberdeen Baptist Lui Ming Choi College', 'Hong Kong True Light College', 'Hong Kong University Graduate Association College', 'Po Leung Kuk Wai Yin College', 'Pui Tak Canossian College', 'Sacred Heart Canossian College', \"St. Stephen's College\", 'Buddhist Tai Kwong Chi Hong College', 'China Holiness Church Living Spirit College', 'Confucian Ho Kwok Pui Chun College', \"Hong Kong and Kowloon Kaifong Women's Association Sun Fong Chung College\", 'Kau Yan College', 'SALEM-Immanuel Lutheran College', 'Valtorta College', 'AD & FD POHL Leung Sing Tak College', 'Holy Cross Lutheran Evening College', 'Liu Po Shan Memorial College', 'Lui Ming Choi Lutheran College', 'Po Leung Kuk Lee Shing Pik College', 'Po Leung Kuk Yao Ling Sun College', 'Tsuen Wan Public Ho Chuen Yiu Memorial College', 'Buddhist Sum Heung Lam Memorial College', 'CCC Hoh Fuk Tong College', 'Christian Alliance College', 'Christian Alliance S. C. Chan Memorial College', 'HHCKLA Buddhist Leung Chik Wai College', 'Lui Cheung Kwong Lutheran College', 'Lui Cheung Kwong Lutheran Evening College', 'Po Leung Kuk Centenary Li Shiu Chung Memorial College', 'Po Leung Kuk Tang Yuk Tien College', 'Shun Tak Fraternal Association Leung Kau Kui College', 'Shun Tak Fraternal Association Tam Pak Yu College', 'Stewards MKMCF Ma Ko Pan Memorial College', 'Tsung Tsin College', \"Tung Wah Group of Hospitals Sun Hoi Directors' College\", 'Tung Wah Group of Hospitals Yau Tze Tin Memorial college', 'YPI & CA Lee Lim Ming College', 'Buddhist Wong Fung Ling College', 'CCC Kung Lee College', 'Hong Kong Tang King Po College', \"Queen's College\", \"St. Francis' Canossian College\", 'Tung Wah Group of Hospitals Lee Ching Dea Memorial College', 'Assembly of God Morrison College', 'Buddhist Hung Sean Chau Memorial College', 'CCC Heep Woh College', \"Our Lady's College\", 'PHC Wing Kwong College', 'Po Leung Kuk Celine Ho Yam Tong College', 'Po Leung Kuk No.1 W. H. Cheung College', 'CCC Ming Kei College', 'HKMA David Li Kwok Po College', 'Methodist College', 'Newman Catholic College', 'PLK Vicwood KT Chong Sixth Form College', \"St. Francis Xavier's College\", \"St. Mary's Canossian College\", \"True Light Girls' College\", 'Buddhist Mau Fung Memorial College', 'CCC Kei Long College', 'CCC Kei Yuen College', 'ELCHK Yuen Long Lutheran College', 'Gertrude Simon Lutheran College', 'Gertrude Simon Lutheran Evening College', 'Hong Kong Federation of Youth Groups Lee Shau Kee College', 'Hong Kong Management Association K. S. Lo College', 'Jockey Club Eduyoung College', 'Pak Kau College', 'Pok Oi Hospital Tang Pui King Memorial College', 'Shun Tak Fraternal Association Yung Yau College', 'Shung Tak Catholic English College', 'Tin Shui Wai Methodist College', 'Tung Wah Group of Hospitals C. Y. Ma Memorial College', 'Tung Wah Group of Hospitals Kwok Yat Wai College', 'Tung Wah Group of Hospitals Lo Kon Ting Memorial College', 'Yuen Yuen Institute MFBM Nei Ming Chan Lui Chung Tak Memorial College']\n"
          ]
        }
      ]
    },
    {
      "cell_type": "code",
      "metadata": {
        "colab": {
          "base_uri": "https://localhost:8080/"
        },
        "id": "x5cuLuh0dI_o",
        "outputId": "2fb87d78-d83a-487d-c4b5-3765e72eeb8d"
      },
      "source": [
        "# By Printing first 10 school names ending with college\n",
        "\n",
        "\n",
        "for i in range(10):\n",
        "  print(listOfNamesEndingWithCollege[i])\n",
        "\n",
        "\n",
        "print(f\"Total Number of results is {len(listOfNamesEndingWithCollege)}\")"
      ],
      "execution_count": null,
      "outputs": [
        {
          "output_type": "stream",
          "name": "stdout",
          "text": [
            "King's College\n",
            "Lok Sin Tong Leung Kau Kui College\n",
            "Sacred Heart Canossian College\n",
            "St. Joseph's College\n",
            "St. Paul's Co-educational College\n",
            "St. Paul's College\n",
            "St. Stephen's Church College\n",
            "St. Stephen's Girls' College\n",
            "Raimondi College\n",
            "Canossa College\n",
            "Total Number of results is 191\n"
          ]
        }
      ]
    },
    {
      "cell_type": "markdown",
      "metadata": {
        "id": "2L3K_i2Boqqi"
      },
      "source": [
        "#### Part v)\n",
        "\n",
        "Using DataFrame to store the list of school names in (ii). The column name is set to ‘School’. Sorting the data according to the column ‘School’ in ascending order."
      ]
    },
    {
      "cell_type": "code",
      "metadata": {
        "colab": {
          "base_uri": "https://localhost:8080/",
          "height": 424
        },
        "id": "4ZH1DIYid6FQ",
        "outputId": "2152b02f-29d1-4f4a-d87a-c897596f6521"
      },
      "source": [
        "# We just want a single column having school names right? And do we have to print it ? \n",
        "import pandas as pd\n",
        "\n",
        "newdf = pd.DataFrame(allNames, columns = [\"School\"])\n",
        "newdf\n"
      ],
      "execution_count": null,
      "outputs": [
        {
          "output_type": "execute_result",
          "data": {
            "text/html": [
              "<div>\n",
              "<style scoped>\n",
              "    .dataframe tbody tr th:only-of-type {\n",
              "        vertical-align: middle;\n",
              "    }\n",
              "\n",
              "    .dataframe tbody tr th {\n",
              "        vertical-align: top;\n",
              "    }\n",
              "\n",
              "    .dataframe thead th {\n",
              "        text-align: right;\n",
              "    }\n",
              "</style>\n",
              "<table border=\"1\" class=\"dataframe\">\n",
              "  <thead>\n",
              "    <tr style=\"text-align: right;\">\n",
              "      <th></th>\n",
              "      <th>School</th>\n",
              "    </tr>\n",
              "  </thead>\n",
              "  <tbody>\n",
              "    <tr>\n",
              "      <th>0</th>\n",
              "      <td>Island School</td>\n",
              "    </tr>\n",
              "    <tr>\n",
              "      <th>1</th>\n",
              "      <td>Hong Kong Academy</td>\n",
              "    </tr>\n",
              "    <tr>\n",
              "      <th>2</th>\n",
              "      <td>King's College</td>\n",
              "    </tr>\n",
              "    <tr>\n",
              "      <th>3</th>\n",
              "      <td>Lok Sin Tong Leung Kau Kui College</td>\n",
              "    </tr>\n",
              "    <tr>\n",
              "      <th>4</th>\n",
              "      <td>Sacred Heart Canossian College</td>\n",
              "    </tr>\n",
              "    <tr>\n",
              "      <th>...</th>\n",
              "      <td>...</td>\n",
              "    </tr>\n",
              "    <tr>\n",
              "      <th>586</th>\n",
              "      <td>Yuen Long Lutheran Evening School of the ELCHK</td>\n",
              "    </tr>\n",
              "    <tr>\n",
              "      <th>587</th>\n",
              "      <td>Yuen Long Merchants Association Secondary School</td>\n",
              "    </tr>\n",
              "    <tr>\n",
              "      <th>588</th>\n",
              "      <td>Yuen Long Public Secondary School</td>\n",
              "    </tr>\n",
              "    <tr>\n",
              "      <th>589</th>\n",
              "      <td>Yuen Yuen Institute MFBM Nei Ming Chan Lui Chu...</td>\n",
              "    </tr>\n",
              "    <tr>\n",
              "      <th>590</th>\n",
              "      <td>Hong Kong Red Cross Hospital Schools – hospita...</td>\n",
              "    </tr>\n",
              "  </tbody>\n",
              "</table>\n",
              "<p>591 rows × 1 columns</p>\n",
              "</div>"
            ],
            "text/plain": [
              "                                                School\n",
              "0                                        Island School\n",
              "1                                    Hong Kong Academy\n",
              "2                                       King's College\n",
              "3                   Lok Sin Tong Leung Kau Kui College\n",
              "4                       Sacred Heart Canossian College\n",
              "..                                                 ...\n",
              "586     Yuen Long Lutheran Evening School of the ELCHK\n",
              "587   Yuen Long Merchants Association Secondary School\n",
              "588                  Yuen Long Public Secondary School\n",
              "589  Yuen Yuen Institute MFBM Nei Ming Chan Lui Chu...\n",
              "590  Hong Kong Red Cross Hospital Schools – hospita...\n",
              "\n",
              "[591 rows x 1 columns]"
            ]
          },
          "metadata": {},
          "execution_count": 24
        }
      ]
    },
    {
      "cell_type": "code",
      "metadata": {
        "colab": {
          "base_uri": "https://localhost:8080/",
          "height": 424
        },
        "id": "m2viX1bJrfrs",
        "outputId": "572f85fa-26b2-4cd6-bc15-a5949c36faa3"
      },
      "source": [
        "# sorting \n",
        "newdf.sort_values(by = ['School'], ascending = True)"
      ],
      "execution_count": null,
      "outputs": [
        {
          "output_type": "execute_result",
          "data": {
            "text/html": [
              "<div>\n",
              "<style scoped>\n",
              "    .dataframe tbody tr th:only-of-type {\n",
              "        vertical-align: middle;\n",
              "    }\n",
              "\n",
              "    .dataframe tbody tr th {\n",
              "        vertical-align: top;\n",
              "    }\n",
              "\n",
              "    .dataframe thead th {\n",
              "        text-align: right;\n",
              "    }\n",
              "</style>\n",
              "<table border=\"1\" class=\"dataframe\">\n",
              "  <thead>\n",
              "    <tr style=\"text-align: right;\">\n",
              "      <th></th>\n",
              "      <th>School</th>\n",
              "    </tr>\n",
              "  </thead>\n",
              "  <tbody>\n",
              "    <tr>\n",
              "      <th>404</th>\n",
              "      <td>AD &amp; FD POHL Leung Sing Tak College</td>\n",
              "    </tr>\n",
              "    <tr>\n",
              "      <th>347</th>\n",
              "      <td>Aberdeen Baptist Lui Ming Choi College</td>\n",
              "    </tr>\n",
              "    <tr>\n",
              "      <th>348</th>\n",
              "      <td>Aberdeen Technical School</td>\n",
              "    </tr>\n",
              "    <tr>\n",
              "      <th>66</th>\n",
              "      <td>American International School</td>\n",
              "    </tr>\n",
              "    <tr>\n",
              "      <th>67</th>\n",
              "      <td>Amoy College</td>\n",
              "    </tr>\n",
              "    <tr>\n",
              "      <th>...</th>\n",
              "      <td>...</td>\n",
              "    </tr>\n",
              "    <tr>\n",
              "      <th>585</th>\n",
              "      <td>Yuen Long Catholic Secondary School</td>\n",
              "    </tr>\n",
              "    <tr>\n",
              "      <th>586</th>\n",
              "      <td>Yuen Long Lutheran Evening School of the ELCHK</td>\n",
              "    </tr>\n",
              "    <tr>\n",
              "      <th>587</th>\n",
              "      <td>Yuen Long Merchants Association Secondary School</td>\n",
              "    </tr>\n",
              "    <tr>\n",
              "      <th>588</th>\n",
              "      <td>Yuen Long Public Secondary School</td>\n",
              "    </tr>\n",
              "    <tr>\n",
              "      <th>589</th>\n",
              "      <td>Yuen Yuen Institute MFBM Nei Ming Chan Lui Chu...</td>\n",
              "    </tr>\n",
              "  </tbody>\n",
              "</table>\n",
              "<p>591 rows × 1 columns</p>\n",
              "</div>"
            ],
            "text/plain": [
              "                                                School\n",
              "404                AD & FD POHL Leung Sing Tak College\n",
              "347             Aberdeen Baptist Lui Ming Choi College\n",
              "348                          Aberdeen Technical School\n",
              "66                       American International School\n",
              "67                                        Amoy College\n",
              "..                                                 ...\n",
              "585                Yuen Long Catholic Secondary School\n",
              "586     Yuen Long Lutheran Evening School of the ELCHK\n",
              "587   Yuen Long Merchants Association Secondary School\n",
              "588                  Yuen Long Public Secondary School\n",
              "589  Yuen Yuen Institute MFBM Nei Ming Chan Lui Chu...\n",
              "\n",
              "[591 rows x 1 columns]"
            ]
          },
          "metadata": {},
          "execution_count": 25
        }
      ]
    },
    {
      "cell_type": "code",
      "metadata": {
        "colab": {
          "base_uri": "https://localhost:8080/",
          "height": 424
        },
        "id": "9_5uIzY1fOfR",
        "outputId": "511cf157-ac45-47d4-a620-64b72870a18b"
      },
      "source": [
        "#  Making it presentable\n",
        "\n",
        "newdf.sort_values(by = ['School'], ascending = True, inplace = True)\n",
        "newdf.reset_index(drop = True, inplace = True)\n",
        "newdf"
      ],
      "execution_count": null,
      "outputs": [
        {
          "output_type": "execute_result",
          "data": {
            "text/html": [
              "<div>\n",
              "<style scoped>\n",
              "    .dataframe tbody tr th:only-of-type {\n",
              "        vertical-align: middle;\n",
              "    }\n",
              "\n",
              "    .dataframe tbody tr th {\n",
              "        vertical-align: top;\n",
              "    }\n",
              "\n",
              "    .dataframe thead th {\n",
              "        text-align: right;\n",
              "    }\n",
              "</style>\n",
              "<table border=\"1\" class=\"dataframe\">\n",
              "  <thead>\n",
              "    <tr style=\"text-align: right;\">\n",
              "      <th></th>\n",
              "      <th>School</th>\n",
              "    </tr>\n",
              "  </thead>\n",
              "  <tbody>\n",
              "    <tr>\n",
              "      <th>0</th>\n",
              "      <td>AD &amp; FD POHL Leung Sing Tak College</td>\n",
              "    </tr>\n",
              "    <tr>\n",
              "      <th>1</th>\n",
              "      <td>Aberdeen Baptist Lui Ming Choi College</td>\n",
              "    </tr>\n",
              "    <tr>\n",
              "      <th>2</th>\n",
              "      <td>Aberdeen Technical School</td>\n",
              "    </tr>\n",
              "    <tr>\n",
              "      <th>3</th>\n",
              "      <td>American International School</td>\n",
              "    </tr>\n",
              "    <tr>\n",
              "      <th>4</th>\n",
              "      <td>Amoy College</td>\n",
              "    </tr>\n",
              "    <tr>\n",
              "      <th>...</th>\n",
              "      <td>...</td>\n",
              "    </tr>\n",
              "    <tr>\n",
              "      <th>586</th>\n",
              "      <td>Yuen Long Catholic Secondary School</td>\n",
              "    </tr>\n",
              "    <tr>\n",
              "      <th>587</th>\n",
              "      <td>Yuen Long Lutheran Evening School of the ELCHK</td>\n",
              "    </tr>\n",
              "    <tr>\n",
              "      <th>588</th>\n",
              "      <td>Yuen Long Merchants Association Secondary School</td>\n",
              "    </tr>\n",
              "    <tr>\n",
              "      <th>589</th>\n",
              "      <td>Yuen Long Public Secondary School</td>\n",
              "    </tr>\n",
              "    <tr>\n",
              "      <th>590</th>\n",
              "      <td>Yuen Yuen Institute MFBM Nei Ming Chan Lui Chu...</td>\n",
              "    </tr>\n",
              "  </tbody>\n",
              "</table>\n",
              "<p>591 rows × 1 columns</p>\n",
              "</div>"
            ],
            "text/plain": [
              "                                                School\n",
              "0                  AD & FD POHL Leung Sing Tak College\n",
              "1               Aberdeen Baptist Lui Ming Choi College\n",
              "2                            Aberdeen Technical School\n",
              "3                        American International School\n",
              "4                                         Amoy College\n",
              "..                                                 ...\n",
              "586                Yuen Long Catholic Secondary School\n",
              "587     Yuen Long Lutheran Evening School of the ELCHK\n",
              "588   Yuen Long Merchants Association Secondary School\n",
              "589                  Yuen Long Public Secondary School\n",
              "590  Yuen Yuen Institute MFBM Nei Ming Chan Lui Chu...\n",
              "\n",
              "[591 rows x 1 columns]"
            ]
          },
          "metadata": {},
          "execution_count": 26
        }
      ]
    },
    {
      "cell_type": "code",
      "metadata": {
        "id": "ZUmn8b5ugDKf"
      },
      "source": [
        "\n",
        "\n",
        "#********************************************* Thank You! Stay Safe ****************************************************************************************"
      ],
      "execution_count": null,
      "outputs": []
    }
  ]
}