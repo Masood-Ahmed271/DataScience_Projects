{
  "nbformat": 4,
  "nbformat_minor": 0,
  "metadata": {
    "colab": {
      "name": "Copy of Question2.ipynb",
      "provenance": [],
      "collapsed_sections": []
    },
    "kernelspec": {
      "name": "python3",
      "display_name": "Python 3"
    },
    "language_info": {
      "name": "python"
    }
  },
  "cells": [
    {
      "cell_type": "markdown",
      "metadata": {
        "id": "F6qiMRQRcbcO"
      },
      "source": [
        "# Machine Learning with scikit-learn"
      ]
    },
    {
      "cell_type": "markdown",
      "metadata": {
        "id": "HVvfT9IZzG02"
      },
      "source": [
        "\n",
        "### **Name:** Masood Ahmed"
      ]
    },
    {
      "cell_type": "markdown",
      "metadata": {
        "id": "2MO3bLv1coT2"
      },
      "source": [
        "i) Loading handwritten image dataset with scikit-learn and visualizing four image examples. "
      ]
    },
    {
      "cell_type": "code",
      "metadata": {
        "id": "T1NoMTVUOMq4"
      },
      "source": [
        "# Importing Necessary libraries\n",
        "import sklearn\n",
        "from sklearn import datasets\n",
        "import matplotlib.pyplot as plt\n"
      ],
      "execution_count": null,
      "outputs": []
    },
    {
      "cell_type": "code",
      "metadata": {
        "id": "NeE_N9JcQDtP"
      },
      "source": [
        "# Loading dataset of digits\n",
        "digits = datasets.load_digits()"
      ],
      "execution_count": null,
      "outputs": []
    },
    {
      "cell_type": "code",
      "metadata": {
        "colab": {
          "base_uri": "https://localhost:8080/",
          "height": 144
        },
        "id": "lJluGQtfRJN_",
        "outputId": "79fff461-2dba-4ffb-ac7d-1e0439c2f553"
      },
      "source": [
        "# Using matplotlib to visualise\n",
        "# This rows and columns are just make the output look in a proper way\n",
        "rows = 1         \n",
        "columns = 4\n",
        "fig = plt.figure(figsize=(8,8))\n",
        "# Printing output\n",
        "for j in range(0,rows*columns):\n",
        "  fig.add_subplot(rows, columns, j+1)\n",
        "  plt.axis('off')   # Hiding the axis\n",
        "  plt.title(\"Training:\" + str(j))  # Giving the Title\n",
        "  plt.imshow(digits.images[j], cmap=plt.cm.gray_r)\n",
        "\n",
        "plt.show()"
      ],
      "execution_count": null,
      "outputs": [
        {
          "output_type": "display_data",
          "data": {
            "image/png": "[encoded data removed]",
            "text/plain": [
              "<Figure size 576x576 with 4 Axes>"
            ]
          },
          "metadata": {
            "needs_background": "light"
          }
        }
      ]
    },
    {
      "cell_type": "markdown",
      "metadata": {
        "id": "PdEZexvVc-Lk"
      },
      "source": [
        "ii) Splitting the dataset into the train and validation set, following train : validation = 8: 2 "
      ]
    },
    {
      "cell_type": "code",
      "metadata": {
        "id": "H3gwzsTwasDm"
      },
      "source": [
        "# A library of sklearn which allows splitting of data into test and validation set\n",
        "from sklearn.model_selection import train_test_split"
      ],
      "execution_count": null,
      "outputs": []
    },
    {
      "cell_type": "code",
      "metadata": {
        "id": "6IKugzSMlAjF"
      },
      "source": [
        "X = digits.data      # Data\n",
        "y = digits.target    # Labels\n",
        "# X_train: Training Data\n",
        "# y_train: Labels for training data\n",
        "# X_Validation: Validation data set\n",
        "# y_validation: Labels for the validation data set\n",
        "# Ratio of validation:test = 1:4 or 2:8\n",
        "X_train, X_validation, y_train, y_validation = train_test_split(X, y, shuffle = False, test_size = 0.20)   # Shuffle is False because we do not want to change the image order"
      ],
      "execution_count": null,
      "outputs": []
    },
    {
      "cell_type": "markdown",
      "metadata": {
        "id": "sOrQEbVlv6OX"
      },
      "source": [
        "**iii)** Training a Decision Tree Classifier on the train set and test your classifier on the validation set.\n",
        "And calculating the prediction accuracy of your model. "
      ]
    },
    {
      "cell_type": "code",
      "metadata": {
        "id": "E9an-ge4tU1f",
        "colab": {
          "base_uri": "https://localhost:8080/"
        },
        "outputId": "ad7aaf76-e552-43f4-ed16-f54c947c745f"
      },
      "source": [
        "#Importing the Decision tree classifier from the sklearn tree library.\n",
        "from sklearn.tree import DecisionTreeClassifier\n",
        "clf = DecisionTreeClassifier(criterion = 'entropy')  # Getting the classifiocation model with entropy criterion instead of Gini\n",
        "#Training the decision tree classifier. \n",
        "clf.fit(X_train, y_train)"
      ],
      "execution_count": null,
      "outputs": [
        {
          "output_type": "execute_result",
          "data": {
            "text/plain": [
              "DecisionTreeClassifier(criterion='entropy')"
            ]
          },
          "metadata": {},
          "execution_count": 6
        }
      ]
    },
    {
      "cell_type": "code",
      "metadata": {
        "id": "Zf7NoqFQw44Y"
      },
      "source": [
        "#Predicting labels on the test set.\n",
        "y_pred =  clf.predict(X_validation)     # Getting labels in y_predict which are counter checked with y_validation"
      ],
      "execution_count": null,
      "outputs": []
    },
    {
      "cell_type": "code",
      "metadata": {
        "colab": {
          "base_uri": "https://localhost:8080/"
        },
        "id": "UXdBvPHe4Uog",
        "outputId": "41caf25d-cc51-4782-cb8f-df6a783f580e"
      },
      "source": [
        "#Importing the accuracy metric from sklearn.metrics library\n",
        "\n",
        "from sklearn.metrics import accuracy_score\n",
        "print('Accuracy Score on train data: ', accuracy_score(y_true=y_train, y_pred=clf.predict(X_train)))\n",
        "print('Accuracy Score on validation data: ', accuracy_score(y_true=y_validation, y_pred=y_pred))"
      ],
      "execution_count": null,
      "outputs": [
        {
          "output_type": "stream",
          "name": "stdout",
          "text": [
            "Accuracy Score on train data:  1.0\n",
            "Accuracy Score on validation data:  0.7888888888888889\n"
          ]
        }
      ]
    },
    {
      "cell_type": "markdown",
      "metadata": {
        "id": "zP7ch4sSwS_e"
      },
      "source": [
        "**iv)** Training SVM model and report your accuracy. "
      ]
    },
    {
      "cell_type": "code",
      "metadata": {
        "colab": {
          "base_uri": "https://localhost:8080/"
        },
        "id": "ZTGvq0oy4fSU",
        "outputId": "aecb32ea-9cce-4683-9e10-4987c629188c"
      },
      "source": [
        "#Importing SVC from Sklearn's library of SVM\n",
        "\n",
        "from sklearn.svm import SVC\n",
        "\n",
        "clf = SVC()  # Using model with default parameters\n",
        "clf.fit(X_train, y_train)    # Training the model\n"
      ],
      "execution_count": null,
      "outputs": [
        {
          "output_type": "execute_result",
          "data": {
            "text/plain": [
              "SVC()"
            ]
          },
          "metadata": {},
          "execution_count": 9
        }
      ]
    },
    {
      "cell_type": "code",
      "metadata": {
        "colab": {
          "base_uri": "https://localhost:8080/"
        },
        "id": "_2ePQ24WBg2W",
        "outputId": "c53a1605-3062-4a35-9e31-fd6aa1ee69b5"
      },
      "source": [
        "#Importing the accuracy metric from sklearn.metrics library\n",
        "from sklearn.metrics import accuracy_score\n",
        "# Score of actual trained model\n",
        "print('Accuracy Score on train data: ', accuracy_score(y_true=y_train, y_pred=clf.predict(X_train)))\n"
      ],
      "execution_count": null,
      "outputs": [
        {
          "output_type": "stream",
          "name": "stdout",
          "text": [
            "Accuracy Score on train data:  0.9979123173277662\n"
          ]
        }
      ]
    },
    {
      "cell_type": "code",
      "metadata": {
        "colab": {
          "base_uri": "https://localhost:8080/"
        },
        "id": "iEs75MvkBvoP",
        "outputId": "8791c3a6-563b-49a7-ae0d-4d64712acae2"
      },
      "source": [
        "#Predicting labels on the test set.\n",
        "y_pred =  clf.predict(X_validation)  # for finding accuracy of model on validation set\n",
        "print('Accuracy Score on validation data: ', accuracy_score(y_true=y_validation, y_pred=y_pred))"
      ],
      "execution_count": null,
      "outputs": [
        {
          "output_type": "stream",
          "name": "stdout",
          "text": [
            "Accuracy Score on validation data:  0.9416666666666667\n"
          ]
        }
      ]
    },
    {
      "cell_type": "markdown",
      "metadata": {
        "id": "3wA0fs4ewe1Z"
      },
      "source": [
        "**v).** Fine-tunning the hyperparameters of SVM to improve accuracy."
      ]
    },
    {
      "cell_type": "code",
      "metadata": {
        "colab": {
          "base_uri": "https://localhost:8080/"
        },
        "id": "sdrbMj46B5iK",
        "outputId": "82dc54a7-f9dd-4134-9ae2-b61ebc2d3ffa"
      },
      "source": [
        "# Improving Accuracy by changing Hyperparamters\n",
        "from sklearn.metrics import accuracy_score\n",
        "clf = SVC(gamma = 0.1)      # changing parameters to get more accuracy\n",
        "clf.fit(X_train, y_train)\n",
        "print('Accuracy Score on train data: ', accuracy_score(y_true=y_train, y_pred=clf.predict(X_train)))\n",
        "y_pred =  clf.predict(X_validation)\n",
        "print('Accuracy Score on validation data: ', accuracy_score(y_true=y_validation, y_pred=y_pred))"
      ],
      "execution_count": null,
      "outputs": [
        {
          "output_type": "stream",
          "name": "stdout",
          "text": [
            "Accuracy Score on train data:  1.0\n",
            "Accuracy Score on validation data:  0.10833333333333334\n"
          ]
        }
      ]
    },
    {
      "cell_type": "code",
      "metadata": {
        "colab": {
          "base_uri": "https://localhost:8080/"
        },
        "id": "YTwKAjo-CTFr",
        "outputId": "03011456-9a11-4c03-94e1-3b1b78991f8e"
      },
      "source": [
        "from sklearn.metrics import accuracy_score\n",
        "clf = SVC(gamma = 0.1, C = 10)\n",
        "clf.fit(X_train, y_train)\n",
        "print('Accuracy Score on train data: ', accuracy_score(y_true=y_train, y_pred=clf.predict(X_train)))\n",
        "y_pred =  clf.predict(X_validation)\n",
        "print('Accuracy Score on validation data: ', accuracy_score(y_true=y_validation, y_pred=y_pred))"
      ],
      "execution_count": null,
      "outputs": [
        {
          "output_type": "stream",
          "name": "stdout",
          "text": [
            "Accuracy Score on train data:  1.0\n",
            "Accuracy Score on validation data:  0.10833333333333334\n"
          ]
        }
      ]
    },
    {
      "cell_type": "code",
      "metadata": {
        "colab": {
          "base_uri": "https://localhost:8080/"
        },
        "id": "oMoa1N2nDjVK",
        "outputId": "a27503bf-daeb-4b2a-b993-2b19eb1cc0d5"
      },
      "source": [
        "from sklearn.metrics import accuracy_score\n",
        "clf = SVC(gamma = 0.5, kernel = 'sigmoid')\n",
        "clf.fit(X_train, y_train)\n",
        "print('Accuracy Score on train data: ', accuracy_score(y_true=y_train, y_pred=clf.predict(X_train)))\n",
        "y_pred =  clf.predict(X_validation)\n",
        "print('Accuracy Score on validation data: ', accuracy_score(y_true=y_validation, y_pred=y_pred))"
      ],
      "execution_count": null,
      "outputs": [
        {
          "output_type": "stream",
          "name": "stdout",
          "text": [
            "Accuracy Score on train data:  0.10160055671537926\n",
            "Accuracy Score on validation data:  0.10277777777777777\n"
          ]
        }
      ]
    },
    {
      "cell_type": "code",
      "metadata": {
        "colab": {
          "base_uri": "https://localhost:8080/"
        },
        "id": "HbZZX-VvDDui",
        "outputId": "173da8fa-faa9-453c-8bf2-220d28cc9eae"
      },
      "source": [
        "from sklearn.metrics import accuracy_score\n",
        "clf = SVC(gamma = 10, kernel = 'linear')\n",
        "clf.fit(X_train, y_train)\n",
        "print('Accuracy Score on train data: ', accuracy_score(y_true=y_train, y_pred=clf.predict(X_train)))\n",
        "y_pred =  clf.predict(X_validation)\n",
        "print('Accuracy Score on validation data: ', accuracy_score(y_true=y_validation, y_pred=y_pred))"
      ],
      "execution_count": null,
      "outputs": [
        {
          "output_type": "stream",
          "name": "stdout",
          "text": [
            "Accuracy Score on train data:  1.0\n",
            "Accuracy Score on validation data:  0.9305555555555556\n"
          ]
        }
      ]
    },
    {
      "cell_type": "code",
      "metadata": {
        "colab": {
          "base_uri": "https://localhost:8080/"
        },
        "id": "YKUN3MywDO4t",
        "outputId": "f9daf1e3-76ee-4b11-cab4-194ecf5a89cf"
      },
      "source": [
        "from sklearn.metrics import accuracy_score\n",
        "clf = SVC(gamma = 0.1)\n",
        "clf.fit(X_train, y_train)\n",
        "print('Accuracy Score on train data: ', accuracy_score(y_true=y_train, y_pred=clf.predict(X_train)))\n",
        "y_pred =  clf.predict(X_validation)\n",
        "print('Accuracy Score on validation data: ', accuracy_score(y_true=y_validation, y_pred=y_pred))"
      ],
      "execution_count": null,
      "outputs": [
        {
          "output_type": "stream",
          "name": "stdout",
          "text": [
            "Accuracy Score on train data:  1.0\n",
            "Accuracy Score on validation data:  0.10833333333333334\n"
          ]
        }
      ]
    },
    {
      "cell_type": "code",
      "metadata": {
        "colab": {
          "base_uri": "https://localhost:8080/"
        },
        "id": "-1y4aIAhGc73",
        "outputId": "bda69b22-89a5-41ad-dc3c-1da0666e36df"
      },
      "source": [
        "from sklearn.metrics import accuracy_score\n",
        "clf = SVC(gamma = 0.001, kernel = 'linear')   # Best one I found\n",
        "clf.fit(X_train, y_train)\n",
        "print('Accuracy Score on train data: ', accuracy_score(y_true=y_train, y_pred=clf.predict(X_train)))\n",
        "y_pred =  clf.predict(X_validation)\n",
        "print('Accuracy Score on validation data: ', accuracy_score(y_true=y_validation, y_pred=y_pred))"
      ],
      "execution_count": null,
      "outputs": [
        {
          "output_type": "stream",
          "name": "stdout",
          "text": [
            "Accuracy Score on train data:  1.0\n",
            "Accuracy Score on validation data:  0.9305555555555556\n"
          ]
        }
      ]
    }
  ]
}